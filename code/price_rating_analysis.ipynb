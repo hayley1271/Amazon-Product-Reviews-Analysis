{
 "cells": [
  {
   "cell_type": "markdown",
   "id": "75b21ba6-6a74-479d-85fb-1aecde830718",
   "metadata": {},
   "source": [
    "# DSE 230 Final Project - Price vs Ratings Analysis\n",
    "1. Preprocessing jsonl data\n",
    "2. Initializing data into notebook\n",
    "3. Data exploration\n",
    "4. Analysis\n",
    "   * Return on Rating\n",
    "   * Fitting linear regression model"
   ]
  },
  {
   "cell_type": "markdown",
   "id": "0fbbd114-9e77-425d-adef-5285f03b06a6",
   "metadata": {},
   "source": [
    "# 1. Preprocessing jsonl files\n",
    "File path to files need to be rewritten as needed\n",
    "\n",
    "* Reviews have `images` dropped and `image_count` created\n",
    "* Items have `images`, `videos`, `details` dropped and `image_count`, `video_count`, `detail_count` created"
   ]
  },
  {
   "cell_type": "code",
   "execution_count": null,
   "id": "a73080bc-d1e1-4016-8fdf-efa1ad54eb07",
   "metadata": {},
   "outputs": [],
   "source": [
    "import json\n",
    "import os\n",
    "import pandas as pd"
   ]
  },
  {
   "cell_type": "code",
   "execution_count": null,
   "id": "9d716040-fa13-48f2-931c-8a772ceb73c4",
   "metadata": {},
   "outputs": [],
   "source": [
    "# All Beauty Reviews\n",
    "all_beauty_reviews = '/home/work/Final Project/(review) All_Beauty.jsonl/All_Beauty.jsonl'\n",
    "# all beauty items\n",
    "all_beauty_items = '/home/work/Final Project/(items) meta_All_Beauty.jsonl/meta_All_Beauty.jsonl'\n",
    "\n",
    "# beauty and personal care Reviews\n",
    "beauty_and_personal_care_reviews = '/home/work/Final Project/Beauty_and_Personal_Care.jsonl/Beauty_and_Personal_Care.jsonl'\n",
    "# beauty and personal care items\n",
    "beauty_and_personal_care_items = '/home/work/Final Project/meta_Beauty_and_Personal_Care.jsonl/meta_Beauty_and_Personal_Care.jsonl'"
   ]
  },
  {
   "cell_type": "markdown",
   "id": "5a473c5d-aea4-4c3b-9253-68b1683e3450",
   "metadata": {
    "jp-MarkdownHeadingCollapsed": true
   },
   "source": [
    "#### All Beauty Reviews"
   ]
  },
  {
   "cell_type": "code",
   "execution_count": null,
   "id": "ac529fc1-1043-4d76-bf60-81bbfe134435",
   "metadata": {},
   "outputs": [],
   "source": [
    "with open(all_beauty_reviews, 'r') as infile:\n",
    "  print('opened')\n",
    "  for line_num, line in enumerate(infile, 1):\n",
    "    try:\n",
    "        json.loads(line)\n",
    "    except json.JSONDecodeError as e:\n",
    "        print(f\"Error on line {line_num}: {e}\")\n",
    "        print(f\"Problematic line content: {line.strip()}\")"
   ]
  },
  {
   "cell_type": "code",
   "execution_count": null,
   "id": "9532ed3e-115a-4946-ad81-55ab4f569b40",
   "metadata": {},
   "outputs": [],
   "source": [
    "keys_to_remove = {\"images\"}\n",
    "\n",
    "with open(all_beauty_reviews, 'r') as infile, open('all_beauty_reviews_cleaned.jsonl', 'w') as outfile:\n",
    "  for line in infile:\n",
    "        try:\n",
    "            obj = json.loads(line)\n",
    "\n",
    "            # Initialize image count\n",
    "            image_count = 0\n",
    "\n",
    "            # Check if 'images' key exists and is a list\n",
    "            if 'images' in obj and isinstance(obj['images'], list):\n",
    "                image_count = len(obj['images'])\n",
    "\n",
    "            cleaned_obj = {k: v for k, v in obj.items() if k not in keys_to_remove}\n",
    "\n",
    "            # Add the image count as a new key\n",
    "            cleaned_obj['image_count'] = image_count\n",
    "\n",
    "            outfile.write(json.dumps(cleaned_obj) + '\\n')\n",
    "\n",
    "        except json.JSONDecodeError as e:\n",
    "            print(f\"Skipping line due to JSONDecodeError: {e} in line: {line.strip()}\")\n",
    "            # Attempt to fix the line (example: replacing single backslashes with double backslashes)\n",
    "            corrected_line = line.strip().replace('\\\\', '\\\\\\\\')\n",
    "            try:\n",
    "                obj = json.loads(corrected_line)\n",
    "                image_count = 0\n",
    "                if 'images' in obj and isinstance(obj['images'], list):\n",
    "                    image_count = len(obj['images'])\n",
    "                cleaned_obj = {k: v for k, v in obj.items() if k not in keys_to_remove}\n",
    "                cleaned_obj['image_count'] = image_count\n",
    "                outfile.write(json.dumps(cleaned_obj) + '\\n')\n",
    "                print(f\"Successfully processed corrected line.\")\n",
    "            except json.JSONDecodeError as e_corrected:\n",
    "                print(f\"Failed to process corrected line: {e_corrected} in line: {corrected_line}\")\n",
    "                # If correction fails, you might skip the line or log it for manual inspection"
   ]
  },
  {
   "cell_type": "code",
   "execution_count": null,
   "id": "a8d033c7-2553-41ec-80c3-bbb5cb4a7e6a",
   "metadata": {},
   "outputs": [],
   "source": [
    "cleaned_df = pd.read_json('/home/work/Final Project/all_beauty_reviews_cleaned.jsonl', lines=True)\n",
    "cleaned_df.head(5)"
   ]
  },
  {
   "cell_type": "code",
   "execution_count": null,
   "id": "8752c9e9-aec4-4dee-af15-d5444cc3147d",
   "metadata": {},
   "outputs": [],
   "source": [
    "# get info about json file\n",
    "all_beauty_df = pd.read_json(all_beauty_reviews, lines=True)\n",
    "all_beauty_df.info()"
   ]
  },
  {
   "cell_type": "code",
   "execution_count": null,
   "id": "5096e300-fc0d-4416-8bf2-b3fb43d6cbef",
   "metadata": {},
   "outputs": [],
   "source": [
    "# info about json file after removing image key\n",
    "cleaned_df.info()"
   ]
  },
  {
   "cell_type": "code",
   "execution_count": null,
   "id": "b008145a-9754-4ed0-9c44-daa0a4443662",
   "metadata": {},
   "outputs": [],
   "source": [
    "all_beauty_df.schema == cleaned_df.schema   # should return True"
   ]
  },
  {
   "cell_type": "markdown",
   "id": "946dc7ae-cfdf-4c8d-bb46-2cc34242f1b6",
   "metadata": {
    "jp-MarkdownHeadingCollapsed": true
   },
   "source": [
    "#### All Beauty Items"
   ]
  },
  {
   "cell_type": "code",
   "execution_count": null,
   "id": "d7a2cc3a-e75f-4364-b061-84a23bcab752",
   "metadata": {},
   "outputs": [],
   "source": [
    "keys_to_remove = {\"images\", 'videos', 'details', 'bought_together'}\n",
    "# did i also delete author and subtitle accidentally? \n",
    "\n",
    "with open(all_beauty_items, 'r') as infile, open('all_beauty_items_cleaned.jsonl', 'w') as outfile:\n",
    "  for line in infile:\n",
    "        try:\n",
    "            obj = json.loads(line)\n",
    "\n",
    "            # Initialize counts\n",
    "            image_count = 0\n",
    "            video_count = 0\n",
    "            detail_count = 0\n",
    "\n",
    "            # Check if 'images' key exists and is a list\n",
    "            if 'images' in obj and isinstance(obj['images'], list):\n",
    "                image_count = len(obj['images'])\n",
    "\n",
    "            # check if 'videos' key exists and is a list\n",
    "            if 'videos' in obj and isinstance(obj['videos'], list):\n",
    "                video_count = len(obj['videos'])\n",
    "\n",
    "            # check if 'detail' key exists and is a list\n",
    "            if 'details' in obj and isinstance(obj['details'], list):\n",
    "                detail_count = len(obj['details'])\n",
    "\n",
    "            cleaned_obj = {k: v for k, v in obj.items() if k not in keys_to_remove}\n",
    "\n",
    "            # Add the image count as a new key\n",
    "            cleaned_obj['image_count'] = image_count\n",
    "\n",
    "            # Add the video count as a new key\n",
    "            cleaned_obj['video_count'] = video_count\n",
    "\n",
    "            # Add the detail count as a new key\n",
    "            cleaned_obj['detail_count'] = detail_count\n",
    "\n",
    "            outfile.write(json.dumps(cleaned_obj) + '\\n')\n",
    "\n",
    "        except json.JSONDecodeError as e:\n",
    "            print(f\"Skipping line due to JSONDecodeError: {e} in line: {line.strip()}\")\n",
    "            # Attempt to fix the line (example: replacing single backslashes with double backslashes)\n",
    "            corrected_line = line.strip().replace('\\\\', '\\\\\\\\')\n",
    "            try:\n",
    "                obj = json.loads(corrected_line)\n",
    "                image_count = 0\n",
    "                video_count = 0\n",
    "                detail_count = 0\n",
    "                if 'images' in obj and isinstance(obj['images'], list):\n",
    "                    image_count = len(obj['images'])\n",
    "                if 'videos' in obj and isinstance(obj['videos'], list):\n",
    "                    video_count = len(obj['videos'])\n",
    "                if 'details' in obj and isinstance(obj['details'], list):\n",
    "                    detail_count = len(obj['details'])\n",
    "                cleaned_obj = {k: v for k, v in obj.items() if k not in keys_to_remove}\n",
    "                cleaned_obj['image_count'] = image_count\n",
    "                cleaned_obj['video_count'] = video_count\n",
    "                cleaned_obj['detail_count'] = detail_count\n",
    "                outfile.write(json.dumps(cleaned_obj) + '\\n')\n",
    "                print(f\"Successfully processed corrected line.\")\n",
    "            except json.JSONDecodeError as e_corrected:\n",
    "                print(f\"Failed to process corrected line: {e_corrected} in line: {corrected_line}\")\n",
    "                # If correction fails, you might skip the line or log it for manual inspection"
   ]
  },
  {
   "cell_type": "code",
   "execution_count": null,
   "id": "317c92e0-bd3d-473d-bcd3-28c43e906757",
   "metadata": {},
   "outputs": [],
   "source": [
    "# get info about json file\n",
    "all_beauty_items_df = pd.read_json(all_beauty_items, lines=True)\n",
    "all_beauty_items_df.head(5)"
   ]
  },
  {
   "cell_type": "code",
   "execution_count": null,
   "id": "f4a48798-909f-434d-9911-85d6524497d5",
   "metadata": {},
   "outputs": [],
   "source": [
    "all_beauty_items_df.info()"
   ]
  },
  {
   "cell_type": "code",
   "execution_count": null,
   "id": "9bc30a9a-f91c-41d9-95ab-4ed4fefefc38",
   "metadata": {},
   "outputs": [],
   "source": [
    "all_beauty_items_cleaned_df = pd.read_json('/home/work/Final Project/all_beauty_items_cleaned.jsonl', lines=True)\n",
    "all_beauty_items_cleaned_df.info()"
   ]
  },
  {
   "cell_type": "code",
   "execution_count": null,
   "id": "2070e31d-3c61-482f-811a-011f340f66ce",
   "metadata": {},
   "outputs": [],
   "source": [
    "all_beauty_items_cleaned_df.head(5)"
   ]
  },
  {
   "cell_type": "markdown",
   "id": "b637513d-7ce3-445e-940a-277d24d66d7a",
   "metadata": {
    "jp-MarkdownHeadingCollapsed": true
   },
   "source": [
    "#### Beauty and Personal Care Reviews"
   ]
  },
  {
   "cell_type": "code",
   "execution_count": null,
   "id": "251f3884-18a7-4d74-90e7-b490b6ec38ae",
   "metadata": {},
   "outputs": [],
   "source": [
    "keys_to_remove = {\"images\"}\n",
    "\n",
    "with open(beauty_and_personal_care_reviews, 'r') as infile, open('bapc_reviews_cleaned.jsonl', 'w') as outfile:\n",
    "  for line in infile:\n",
    "        try:\n",
    "            obj = json.loads(line)\n",
    "\n",
    "            # Initialize image count\n",
    "            image_count = 0\n",
    "\n",
    "            # Check if 'images' key exists and is a list\n",
    "            if 'images' in obj and isinstance(obj['images'], list):\n",
    "                image_count = len(obj['images'])\n",
    "\n",
    "            cleaned_obj = {k: v for k, v in obj.items() if k not in keys_to_remove}\n",
    "\n",
    "            # Add the image count as a new key\n",
    "            cleaned_obj['image_count'] = image_count\n",
    "\n",
    "            outfile.write(json.dumps(cleaned_obj) + '\\n')\n",
    "\n",
    "        except json.JSONDecodeError as e:\n",
    "            print(f\"Skipping line due to JSONDecodeError: {e} in line: {line.strip()}\")\n",
    "            # Attempt to fix the line (example: replacing single backslashes with double backslashes)\n",
    "            corrected_line = line.strip().replace('\\\\', '\\\\\\\\')\n",
    "            try:\n",
    "                obj = json.loads(corrected_line)\n",
    "                image_count = 0\n",
    "                if 'images' in obj and isinstance(obj['images'], list):\n",
    "                    image_count = len(obj['images'])\n",
    "                cleaned_obj = {k: v for k, v in obj.items() if k not in keys_to_remove}\n",
    "                cleaned_obj['image_count'] = image_count\n",
    "                outfile.write(json.dumps(cleaned_obj) + '\\n')\n",
    "                print(f\"Successfully processed corrected line.\")\n",
    "            except json.JSONDecodeError as e_corrected:\n",
    "                print(f\"Failed to process corrected line: {e_corrected} in line: {corrected_line}\")\n",
    "                # If correction fails, you might skip the line or log it for manual inspection"
   ]
  },
  {
   "cell_type": "code",
   "execution_count": null,
   "id": "f5095e39-a8e4-4fb4-b78f-d03233249a2b",
   "metadata": {},
   "outputs": [],
   "source": [
    "bapc_reviews_cleaned_df = pd.read_json('/home/work/Final Project/meta_bapc_reviews_cleaned.jsonl', lines=True)"
   ]
  },
  {
   "cell_type": "code",
   "execution_count": null,
   "id": "1d26196d-9513-4c0c-8c6f-548bb373e286",
   "metadata": {},
   "outputs": [],
   "source": [
    "bapc_reviews_cleaned_df.head(5)"
   ]
  },
  {
   "cell_type": "markdown",
   "id": "2944d261-93cd-42a8-bba6-7572f2f0f8ca",
   "metadata": {
    "jp-MarkdownHeadingCollapsed": true
   },
   "source": [
    "#### Beauty and Personal Care Items"
   ]
  },
  {
   "cell_type": "code",
   "execution_count": null,
   "id": "19c464fb-97ce-4af0-bdaf-f3bd6456a7da",
   "metadata": {},
   "outputs": [],
   "source": [
    "keys_to_remove = {\"images\", 'videos', 'details', 'bought_together'}\n",
    "\n",
    "\n",
    "with open(beauty_and_personal_care_items, 'r') as infile, open('bapc_items_cleaned.jsonl', 'w') as outfile:\n",
    "  for line in infile:\n",
    "        try:\n",
    "            obj = json.loads(line)\n",
    "\n",
    "            # Initialize counts\n",
    "            image_count = 0\n",
    "            video_count = 0\n",
    "            detail_count = 0\n",
    "\n",
    "            # Check if 'images' key exists and is a list\n",
    "            if 'images' in obj and isinstance(obj['images'], list):\n",
    "                image_count = len(obj['images'])\n",
    "\n",
    "            # check if 'videos' key exists and is a list\n",
    "            if 'videos' in obj and isinstance(obj['videos'], list):\n",
    "                video_count = len(obj['videos'])\n",
    "\n",
    "            # check if 'detail' key exists and is a list\n",
    "            if 'details' in obj and isinstance(obj['details'], list):\n",
    "                detail_count = len(obj['details'])\n",
    "\n",
    "            cleaned_obj = {k: v for k, v in obj.items() if k not in keys_to_remove}\n",
    "\n",
    "            # Add the image count as a new key\n",
    "            cleaned_obj['image_count'] = image_count\n",
    "\n",
    "            # Add the video count as a new key\n",
    "            cleaned_obj['video_count'] = video_count\n",
    "\n",
    "            # Add the detail count as a new key\n",
    "            cleaned_obj['detail_count'] = detail_count\n",
    "\n",
    "            outfile.write(json.dumps(cleaned_obj) + '\\n')\n",
    "\n",
    "        except json.JSONDecodeError as e:\n",
    "            print(f\"Skipping line due to JSONDecodeError: {e} in line: {line.strip()}\")\n",
    "            # Attempt to fix the line (example: replacing single backslashes with double backslashes)\n",
    "            corrected_line = line.strip().replace('\\\\', '\\\\\\\\')\n",
    "            try:\n",
    "                obj = json.loads(corrected_line)\n",
    "                image_count = 0\n",
    "                video_count = 0\n",
    "                detail_count = 0\n",
    "                if 'images' in obj and isinstance(obj['images'], list):\n",
    "                    image_count = len(obj['images'])\n",
    "                if 'videos' in obj and isinstance(obj['videos'], list):\n",
    "                    video_count = len(obj['videos'])\n",
    "                if 'details' in obj and isinstance(obj['details'], list):\n",
    "                    detail_count = len(obj['details'])\n",
    "                cleaned_obj = {k: v for k, v in obj.items() if k not in keys_to_remove}\n",
    "                cleaned_obj['image_count'] = image_count\n",
    "                cleaned_obj['video_count'] = video_count\n",
    "                cleaned_obj['detail_count'] = detail_count\n",
    "                outfile.write(json.dumps(cleaned_obj) + '\\n')\n",
    "                print(f\"Successfully processed corrected line.\")\n",
    "            except json.JSONDecodeError as e_corrected:\n",
    "                print(f\"Failed to process corrected line: {e_corrected} in line: {corrected_line}\")\n",
    "                # If correction fails, you might skip the line or log it for manual inspection"
   ]
  },
  {
   "cell_type": "code",
   "execution_count": null,
   "id": "f0dbc8f8-54ca-4fc5-97f0-8d76c0cff63a",
   "metadata": {},
   "outputs": [],
   "source": [
    "bapc_items_df = pd.read_json(beauty_and_personal_care_items, lines=True)\n",
    "bapc_items_df.head(5)"
   ]
  },
  {
   "cell_type": "code",
   "execution_count": null,
   "id": "6a5b31dd-7cf3-4c87-95d4-e31061373dac",
   "metadata": {},
   "outputs": [],
   "source": [
    "bapc_items_df.info()"
   ]
  },
  {
   "cell_type": "code",
   "execution_count": null,
   "id": "9051f574-33b6-40e9-bacf-48fe622ff76e",
   "metadata": {},
   "outputs": [],
   "source": [
    "bapc_items_cleaned_df = pd.read_json('/home/work/Final Project/bapc_items_cleaned.jsonl', lines=True)"
   ]
  },
  {
   "cell_type": "code",
   "execution_count": null,
   "id": "85caf862-52f4-4196-882f-e435228d1467",
   "metadata": {},
   "outputs": [],
   "source": [
    "bapc_items_cleaned_df.info()"
   ]
  },
  {
   "cell_type": "markdown",
   "id": "295ecf70-9deb-47e2-9f2b-2396f80d2160",
   "metadata": {
    "jp-MarkdownHeadingCollapsed": true
   },
   "source": [
    "# 2. Initializing Data into Notebook\n",
    "\n",
    "Dataset: https://amazon-reviews-2023.github.io/\n",
    "\n",
    "PySpark: https://spark.apache.org/docs/latest/api/python/index.html\n",
    "\n",
    "Matplotlib: https://matplotlib.org/stable/users/index\n",
    "\n",
    "* Suppress native-hadoop warning\n",
    "* Import packages\n",
    "* Initialize Spark session\n",
    "* Load files into HDFS\n",
    "* Load files into dataframes"
   ]
  },
  {
   "cell_type": "code",
   "execution_count": 1,
   "id": "0ab9ee55-af16-486b-973d-60db156e9d16",
   "metadata": {},
   "outputs": [],
   "source": [
    "# Suppress native-hadoop warning\n",
    "!sed -i '$a\\# Add the line for suppressing the NativeCodeLoader warning \\nlog4j.logger.org.apache.hadoop.util.NativeCodeLoader=ERROR,console' /$HADOOP_HOME/etc/hadoop/log4j.properties"
   ]
  },
  {
   "cell_type": "code",
   "execution_count": 54,
   "id": "597ee766-5d3c-479b-b48c-810150d8c23d",
   "metadata": {},
   "outputs": [],
   "source": [
    "import pyspark\n",
    "from pyspark.sql import SparkSession\n",
    "from pyspark.sql.functions import col, from_unixtime, to_timestamp, rand, when, isnull, stddev, avg, round, count, format_number\n",
    "from pyspark.sql.types import NumericType\n",
    "\n",
    "from pyspark import StorageLevel\n",
    "\n",
    "from pyspark.ml.stat import Correlation\n",
    "from pyspark.ml.feature import VectorAssembler\n",
    "\n",
    "import matplotlib.pyplot as plt\n",
    "import matplotlib\n",
    "import pandas as pd\n",
    "import numpy as np\n",
    "import time\n",
    "import datetime"
   ]
  },
  {
   "cell_type": "code",
   "execution_count": 3,
   "id": "3357032e-a2d7-4a3a-a4c2-f35739ff0d80",
   "metadata": {},
   "outputs": [],
   "source": [
    "notebook_start = time.time()"
   ]
  },
  {
   "cell_type": "code",
   "execution_count": 4,
   "id": "ac6d3ed0-7d97-422e-9cc1-e394e430fe3f",
   "metadata": {},
   "outputs": [
    {
     "name": "stderr",
     "output_type": "stream",
     "text": [
      "----------------------------------------\n",
      "Exception occurred during processing of request from ('127.0.0.1', 37412)\n",
      "Traceback (most recent call last):\n",
      "  File \"/usr/lib/python3.11/socketserver.py\", line 317, in _handle_request_noblock\n",
      "    self.process_request(request, client_address)\n",
      "  File \"/usr/lib/python3.11/socketserver.py\", line 348, in process_request\n",
      "    self.finish_request(request, client_address)\n",
      "  File \"/usr/lib/python3.11/socketserver.py\", line 361, in finish_request\n",
      "    self.RequestHandlerClass(request, client_address, self)\n",
      "  File \"/usr/lib/python3.11/socketserver.py\", line 755, in __init__\n",
      "    self.handle()\n",
      "  File \"/usr/local/lib/python3.11/dist-packages/pyspark/accumulators.py\", line 295, in handle\n",
      "    poll(accum_updates)\n",
      "  File \"/usr/local/lib/python3.11/dist-packages/pyspark/accumulators.py\", line 267, in poll\n",
      "    if self.rfile in r and func():\n",
      "                           ^^^^^^\n",
      "  File \"/usr/local/lib/python3.11/dist-packages/pyspark/accumulators.py\", line 271, in accum_updates\n",
      "    num_updates = read_int(self.rfile)\n",
      "                  ^^^^^^^^^^^^^^^^^^^^\n",
      "  File \"/usr/local/lib/python3.11/dist-packages/pyspark/serializers.py\", line 596, in read_int\n",
      "    raise EOFError\n",
      "EOFError\n",
      "----------------------------------------\n"
     ]
    }
   ],
   "source": [
    "conf = pyspark.SparkConf().setAll([\n",
    "('spark.master', 'local[4]'),\n",
    "('spark.app.name', 'App Name'),\n",
    "('spark.executor.memory','8g'),\n",
    "('spark.driver.memory','8g'),\n",
    "('spark.kryoserializer.buffer.max','512m')])\n",
    "spark = SparkSession.builder.config(conf=conf).getOrCreate()"
   ]
  },
  {
   "cell_type": "code",
   "execution_count": 5,
   "id": "df840a1b-d43a-482d-a455-6818c1f2c034",
   "metadata": {},
   "outputs": [
    {
     "name": "stdout",
     "output_type": "stream",
     "text": [
      "/home/work/Final Project\n",
      "mkdir: `/finalproject': File exists\n",
      "copyFromLocal: `/finalproject/all_beauty_items_cleaned.jsonl': File exists\n",
      "9.175012350082397\n",
      "copyFromLocal: `/finalproject/all_beauty_reviews_cleaned.jsonl': File exists\n",
      "13.064217329025269\n",
      "copyFromLocal: `/finalproject/bapc_items_cleaned.jsonl': File exists\n",
      "17.098875761032104\n",
      "copyFromLocal: `/finalproject/bapc_reviews_1m.jsonl': File exists\n",
      "time (s) to load files into hdfs: 21.026116847991943\n"
     ]
    }
   ],
   "source": [
    "start_time = time.time()\n",
    "! pwd\n",
    "! hdfs dfs -mkdir /finalproject\n",
    "\n",
    "! hdfs dfs -copyFromLocal all_beauty_items_cleaned.jsonl /finalproject\n",
    "print(time.time() - start_time)\n",
    "! hdfs dfs -copyFromLocal all_beauty_reviews_cleaned.jsonl /finalproject\n",
    "print(time.time() - start_time)\n",
    "! hdfs dfs -copyFromLocal bapc_items_cleaned.jsonl /finalproject\n",
    "print(time.time() - start_time)\n",
    "! hdfs dfs -copyFromLocal bapc_reviews_1m.jsonl /finalproject\n",
    "\n",
    "exec_time = time.time() - start_time\n",
    "print('time (s) to load files into hdfs:', exec_time)"
   ]
  },
  {
   "cell_type": "code",
   "execution_count": 6,
   "id": "e7661256-d9cd-47e9-8e07-8577b4ba43b2",
   "metadata": {},
   "outputs": [
    {
     "name": "stderr",
     "output_type": "stream",
     "text": [
      "                                                                                "
     ]
    }
   ],
   "source": [
    "all_beauty_items_df = spark.read.json('hdfs://localhost:9000/finalproject/all_beauty_items_cleaned.jsonl')\n",
    "all_beauty_reviews_df = spark.read.json('hdfs://localhost:9000/finalproject/all_beauty_reviews_cleaned.jsonl')\n",
    "bapc_reviews_df = spark.read.json('hdfs://localhost:9000/finalproject/bapc_reviews_1m.jsonl')\n",
    "bapc_items_df = spark.read.json('hdfs://localhost:9000/finalproject/bapc_items_cleaned.jsonl')"
   ]
  },
  {
   "cell_type": "code",
   "execution_count": 7,
   "id": "ddaf6b19-d002-4179-92da-13b54551c970",
   "metadata": {},
   "outputs": [],
   "source": [
    "bapc_items_df = bapc_items_df.drop('author', 'subtitle')"
   ]
  },
  {
   "cell_type": "code",
   "execution_count": 8,
   "id": "bba08021-cf05-44ac-b134-dcbe4f465b7b",
   "metadata": {},
   "outputs": [],
   "source": [
    "bapc_items_df = bapc_items_df.withColumn('price', col('price').cast('double'))"
   ]
  },
  {
   "cell_type": "code",
   "execution_count": 9,
   "id": "a7b4b737-4284-4a36-b2d7-d4d9045bdedb",
   "metadata": {},
   "outputs": [
    {
     "data": {
      "text/plain": [
       "True"
      ]
     },
     "execution_count": 9,
     "metadata": {},
     "output_type": "execute_result"
    }
   ],
   "source": [
    "all_beauty_items_df.schema == bapc_items_df.schema"
   ]
  },
  {
   "cell_type": "markdown",
   "id": "67352a8b-fc63-484e-a2a1-c2ff1820e35f",
   "metadata": {
    "jp-MarkdownHeadingCollapsed": true
   },
   "source": [
    "# 3. Data Exploration\n",
    "\n",
    "* Union into one reviews dataframe\n",
    "* show() and printSchema() for EDA\n",
    "* Join into one total dataframe called `df`\n",
    "* count()"
   ]
  },
  {
   "cell_type": "code",
   "execution_count": 10,
   "id": "495b9f6e-1eef-46be-9a1f-c7a2dda7a4d4",
   "metadata": {},
   "outputs": [],
   "source": [
    "if all_beauty_reviews_df.schema == bapc_reviews_df.schema:\n",
    "    review_df = all_beauty_reviews_df.union(bapc_reviews_df)\n",
    "else:\n",
    "    print('columns don''t match, cannot union')"
   ]
  },
  {
   "cell_type": "code",
   "execution_count": 11,
   "id": "96497db0-eb5b-446f-8d57-854775e72527",
   "metadata": {},
   "outputs": [],
   "source": [
    "# skip cell execution as long as bapc_items_df doesn't exist\n",
    "try:\n",
    "    if all_beauty_items_df.schema == bapc_items_df.schema:\n",
    "        item_df = all_beauty_items_df.union(bapc_items_df)\n",
    "    else:\n",
    "        print('columns are different')\n",
    "except NameError:\n",
    "    item_df = all_beauty_items_df\n",
    "    print('item_df is all_beauty items only')"
   ]
  },
  {
   "cell_type": "code",
   "execution_count": 12,
   "id": "41b92261-03b0-4c30-a2ef-ed1e59e2728c",
   "metadata": {},
   "outputs": [],
   "source": [
    "item_df = item_df.withColumnsRenamed({\n",
    "    'title': 'item_name',\n",
    "    'image_count': 'item_image_count'\n",
    "    })"
   ]
  },
  {
   "cell_type": "code",
   "execution_count": 13,
   "id": "a6a14271-321e-4516-83cd-80cee440b5ea",
   "metadata": {},
   "outputs": [
    {
     "name": "stdout",
     "output_type": "stream",
     "text": [
      "+--------------+----------+-----------+------------+--------+----------------+-------------+-----------+-----+-------------+---------------+--------------------+-----------+\n",
      "|average_rating|categories|description|detail_count|features|item_image_count|main_category|parent_asin|price|rating_number|          store|           item_name|video_count|\n",
      "+--------------+----------+-----------+------------+--------+----------------+-------------+-----------+-----+-------------+---------------+--------------------+-----------+\n",
      "|           4.8|        []|         []|           0|      []|               2|   All Beauty| B01CUPMQZE| NULL|           10|Howard Products|Howard LC0008 Lea...|          0|\n",
      "+--------------+----------+-----------+------------+--------+----------------+-------------+-----------+-----+-------------+---------------+--------------------+-----------+\n",
      "only showing top 1 row\n",
      "\n"
     ]
    }
   ],
   "source": [
    "item_df.show(1)\n",
    "\n",
    "# Most helpful columns: main_category ('All Beauty' or 'Beauty and Personal Care'), title, average_rating, rating_number, store, categories"
   ]
  },
  {
   "cell_type": "code",
   "execution_count": 14,
   "id": "be1aeedb-3197-4017-9201-d51d725cae29",
   "metadata": {},
   "outputs": [
    {
     "name": "stdout",
     "output_type": "stream",
     "text": [
      "root\n",
      " |-- average_rating: double (nullable = true)\n",
      " |-- categories: array (nullable = true)\n",
      " |    |-- element: string (containsNull = true)\n",
      " |-- description: array (nullable = true)\n",
      " |    |-- element: string (containsNull = true)\n",
      " |-- detail_count: long (nullable = true)\n",
      " |-- features: array (nullable = true)\n",
      " |    |-- element: string (containsNull = true)\n",
      " |-- item_image_count: long (nullable = true)\n",
      " |-- main_category: string (nullable = true)\n",
      " |-- parent_asin: string (nullable = true)\n",
      " |-- price: double (nullable = true)\n",
      " |-- rating_number: long (nullable = true)\n",
      " |-- store: string (nullable = true)\n",
      " |-- item_name: string (nullable = true)\n",
      " |-- video_count: long (nullable = true)\n",
      "\n"
     ]
    }
   ],
   "source": [
    "item_df.printSchema()"
   ]
  },
  {
   "cell_type": "code",
   "execution_count": 15,
   "id": "cf080764-9aa2-4290-8a0c-c72d9614c395",
   "metadata": {},
   "outputs": [
    {
     "name": "stdout",
     "output_type": "stream",
     "text": [
      "+----------+------------+-----------+-----------+------+--------------------+-------------+--------------------+--------------------+-----------------+\n",
      "|      asin|helpful_vote|image_count|parent_asin|rating|                text|    timestamp|               title|             user_id|verified_purchase|\n",
      "+----------+------------+-----------+-----------+------+--------------------+-------------+--------------------+--------------------+-----------------+\n",
      "|B00YQ6X8EO|           0|          0| B00YQ6X8EO|   5.0|This spray is rea...|1588687728923|Such a lovely sce...|AGKHLEW2SOWHNMFQI...|             true|\n",
      "|B081TJ8YS3|           1|          0| B081TJ8YS3|   4.0|This product does...|1588615855070|Works great but s...|AGKHLEW2SOWHNMFQI...|             true|\n",
      "|B07PNNCSP9|           2|          0| B097R46CSY|   5.0|Smells good, feel...|1589665266052|                Yes!|AE74DYR3QUGVPZJ3P...|             true|\n",
      "|B09JS339BZ|           0|          0| B09JS339BZ|   1.0|      Felt synthetic|1643393630220|   Synthetic feeling|AFQLNQNQYFWQZPJQZ...|             true|\n",
      "|B08BZ63GMJ|           0|          0| B08BZ63GMJ|   5.0|             Love it|1609322563534|                  A+|AFQLNQNQYFWQZPJQZ...|             true|\n",
      "+----------+------------+-----------+-----------+------+--------------------+-------------+--------------------+--------------------+-----------------+\n",
      "only showing top 5 rows\n",
      "\n"
     ]
    }
   ],
   "source": [
    "review_df.show(5)\n",
    "\n",
    "# Most helpful columns: helpful_vote, rating, text, timestamp, title"
   ]
  },
  {
   "cell_type": "code",
   "execution_count": 16,
   "id": "e8c32285-6b9e-42c1-9f63-e72578440456",
   "metadata": {},
   "outputs": [
    {
     "name": "stdout",
     "output_type": "stream",
     "text": [
      "root\n",
      " |-- asin: string (nullable = true)\n",
      " |-- helpful_vote: long (nullable = true)\n",
      " |-- image_count: long (nullable = true)\n",
      " |-- parent_asin: string (nullable = true)\n",
      " |-- rating: double (nullable = true)\n",
      " |-- text: string (nullable = true)\n",
      " |-- timestamp: long (nullable = true)\n",
      " |-- title: string (nullable = true)\n",
      " |-- user_id: string (nullable = true)\n",
      " |-- verified_purchase: boolean (nullable = true)\n",
      "\n"
     ]
    }
   ],
   "source": [
    "review_df.printSchema()"
   ]
  },
  {
   "cell_type": "code",
   "execution_count": 17,
   "id": "9c1a3759-7378-4e71-99c0-e037763ab872",
   "metadata": {},
   "outputs": [],
   "source": [
    "# changing price from string to double\n",
    "item_df = item_df.withColumn('price', col('price').cast('double'))"
   ]
  },
  {
   "cell_type": "code",
   "execution_count": 18,
   "id": "6a411f5d-e461-447a-9233-7b8b04b94a61",
   "metadata": {},
   "outputs": [
    {
     "name": "stderr",
     "output_type": "stream",
     "text": [
      "                                                                                "
     ]
    },
    {
     "data": {
      "text/plain": [
       "743203"
      ]
     },
     "execution_count": 18,
     "metadata": {},
     "output_type": "execute_result"
    }
   ],
   "source": [
    "item_df.filter(col('price').isNull()).count()"
   ]
  },
  {
   "cell_type": "code",
   "execution_count": 19,
   "id": "2a699def-440a-4a0e-8e6b-db0a5b5668ab",
   "metadata": {},
   "outputs": [
    {
     "name": "stderr",
     "output_type": "stream",
     "text": [
      "                                                                                "
     ]
    },
    {
     "data": {
      "text/plain": [
       "62041"
      ]
     },
     "execution_count": 19,
     "metadata": {},
     "output_type": "execute_result"
    }
   ],
   "source": [
    "item_df.filter(col('store').isNull()).count()"
   ]
  },
  {
   "cell_type": "code",
   "execution_count": 20,
   "id": "e71f87bb-8868-405d-a033-c210ae9d1831",
   "metadata": {},
   "outputs": [],
   "source": [
    "item_df = item_df.na.fill({'price': 0, 'store': 'No store name', 'main_category': 'No category'})"
   ]
  },
  {
   "cell_type": "code",
   "execution_count": 21,
   "id": "0031eed5-b12f-4da1-a340-ee925e06c055",
   "metadata": {},
   "outputs": [],
   "source": [
    "# changing itmestamp datatype to datetime\n",
    "\n",
    "review_df = review_df.withColumn('review_dttm', to_timestamp(from_unixtime(col('timestamp')/1000)))"
   ]
  },
  {
   "cell_type": "code",
   "execution_count": 22,
   "id": "dc109a29-e0b2-4912-8c25-86703a8e83f8",
   "metadata": {},
   "outputs": [
    {
     "name": "stderr",
     "output_type": "stream",
     "text": [
      "                                                                                "
     ]
    },
    {
     "data": {
      "text/plain": [
       "1141504"
      ]
     },
     "execution_count": 22,
     "metadata": {},
     "output_type": "execute_result"
    }
   ],
   "source": [
    "item_df.count() #1,141,504"
   ]
  },
  {
   "cell_type": "code",
   "execution_count": 23,
   "id": "e964024c-5741-4bc6-b47d-b795e07d382d",
   "metadata": {},
   "outputs": [
    {
     "name": "stderr",
     "output_type": "stream",
     "text": [
      "                                                                                "
     ]
    },
    {
     "data": {
      "text/plain": [
       "1701528"
      ]
     },
     "execution_count": 23,
     "metadata": {},
     "output_type": "execute_result"
    }
   ],
   "source": [
    "review_df.count() "
   ]
  },
  {
   "cell_type": "code",
   "execution_count": 24,
   "id": "64c8b758-bbde-4560-8306-e644e389a9fb",
   "metadata": {
    "scrolled": true
   },
   "outputs": [],
   "source": [
    "df = review_df.join(item_df, review_df.parent_asin == item_df.parent_asin, 'left').select(\n",
    "    item_df.main_category, item_df.item_name, item_df.average_rating, item_df.rating_number\n",
    "    , item_df.store, item_df.categories, item_df.price, item_df.description, item_df.features,\n",
    "    item_df.item_image_count, item_df.video_count, item_df.detail_count,\n",
    "    review_df.helpful_vote, review_df.rating, review_df.text, review_df.timestamp, review_df.review_dttm, review_df.title,\n",
    "    review_df.image_count\n",
    ")"
   ]
  },
  {
   "cell_type": "code",
   "execution_count": 25,
   "id": "5f0428cf-372c-4b90-bef3-75141d1dce3f",
   "metadata": {},
   "outputs": [
    {
     "name": "stderr",
     "output_type": "stream",
     "text": [
      "                                                                                "
     ]
    },
    {
     "data": {
      "text/plain": [
       "1701528"
      ]
     },
     "execution_count": 25,
     "metadata": {},
     "output_type": "execute_result"
    }
   ],
   "source": [
    "df.count() # 1,701,528"
   ]
  },
  {
   "cell_type": "code",
   "execution_count": 26,
   "id": "d79e9243-0490-4048-8990-24e7d681de79",
   "metadata": {
    "scrolled": true
   },
   "outputs": [
    {
     "name": "stderr",
     "output_type": "stream",
     "text": [
      "[Stage 34:==============>                                           (1 + 3) / 4]"
     ]
    },
    {
     "name": "stdout",
     "output_type": "stream",
     "text": [
      "-RECORD 0--------------------------------------------------------------------------------------------------------------------------------------------------------------------------------------------------------------------------------------------------------------------------------------------------------------------------------------------------------------------------------------------------------------------------------------------------------------------------\n",
      " main_category    | All Beauty                                                                                                                                                                                                                                                                                                                                                                                                                                                     \n",
      " item_name        | Herbivore - Natural Sea Mist Texturizing Salt Spray (Coconut, 8 oz)                                                                                                                                                                                                                                                                                                                                                                                            \n",
      " average_rating   | 4.3                                                                                                                                                                                                                                                                                                                                                                                                                                                            \n",
      " rating_number    | 384                                                                                                                                                                                                                                                                                                                                                                                                                                                            \n",
      " store            | HERBIVORE                                                                                                                                                                                                                                                                                                                                                                                                                                                      \n",
      " categories       | []                                                                                                                                                                                                                                                                                                                                                                                                                                                             \n",
      " price            | 0.0                                                                                                                                                                                                                                                                                                                                                                                                                                                            \n",
      " description      | [If given the choice, weÕd leave most telltale signs of the beachÑsunburns, sandy toes, crab claw pinches, etc.Ñat the beach where they belong. The one thing wish we could take with us? That salty sea breeze. This all-natural spray manages, magically, to bottle the effect of sea mist so you can have it all the time. A quick spray in your hair imparts that impossibly perfect texture that comes from a swim in the ocean and a sprawl in the sun.] \n",
      " features         | []                                                                                                                                                                                                                                                                                                                                                                                                                                                             \n",
      " item_image_count | 3                                                                                                                                                                                                                                                                                                                                                                                                                                                              \n",
      " video_count      | 10                                                                                                                                                                                                                                                                                                                                                                                                                                                             \n",
      " detail_count     | 0                                                                                                                                                                                                                                                                                                                                                                                                                                                              \n",
      " helpful_vote     | 0                                                                                                                                                                                                                                                                                                                                                                                                                                                              \n",
      " rating           | 5.0                                                                                                                                                                                                                                                                                                                                                                                                                                                            \n",
      " text             | This spray is really nice. It smells really good, goes on really fine, and does the trick. I will say it feels like you need a lot of it though to get the texture I want. I have a lot of hair, medium thickness. I am comparing to other brands with yucky chemicals so I'm gonna stick with this. Try it!                                                                                                                                                   \n",
      " timestamp        | 1588687728923                                                                                                                                                                                                                                                                                                                                                                                                                                                  \n",
      " review_dttm      | 2020-05-05 14:08:48                                                                                                                                                                                                                                                                                                                                                                                                                                            \n",
      " title            | Such a lovely scent but not overpowering.                                                                                                                                                                                                                                                                                                                                                                                                                      \n",
      " image_count      | 0                                                                                                                                                                                                                                                                                                                                                                                                                                                              \n",
      "only showing top 1 row\n",
      "\n"
     ]
    },
    {
     "name": "stderr",
     "output_type": "stream",
     "text": [
      "                                                                                "
     ]
    }
   ],
   "source": [
    "df.show(1, truncate=False, vertical=True)"
   ]
  },
  {
   "cell_type": "markdown",
   "id": "6c979769-11f2-44c6-aaf6-5ee6075aba98",
   "metadata": {},
   "source": [
    "# 4. Price vs Rating Analysis\n",
    "How price affects perception, hoping to bring value to business through strategic pricing"
   ]
  },
  {
   "cell_type": "markdown",
   "id": "b66a08d9-c6c7-4793-97db-18564b5ed2a9",
   "metadata": {
    "jp-MarkdownHeadingCollapsed": true
   },
   "source": [
    "## Correlation heatmap"
   ]
  },
  {
   "cell_type": "code",
   "execution_count": 30,
   "id": "bb222db6-a2ce-47a4-b856-e905d9db7f30",
   "metadata": {},
   "outputs": [],
   "source": [
    "numeric_cols = [field.name for field in df.schema.fields if isinstance(field.dataType, NumericType)]\n",
    "numeric_cols.remove('detail_count')"
   ]
  },
  {
   "cell_type": "code",
   "execution_count": 31,
   "id": "6d4a0744-ab8e-42e8-8949-a14c704b7ac7",
   "metadata": {},
   "outputs": [
    {
     "name": "stderr",
     "output_type": "stream",
     "text": [
      "                                                                                "
     ]
    }
   ],
   "source": [
    "assembler = VectorAssembler(inputCols=numeric_cols, outputCol = 'assembled_features')\n",
    "vector_df = assembler.transform(df).select('assembled_features')\n",
    "\n",
    "corr_matrix = Correlation.corr(vector_df, 'assembled_features').head()[0].toArray()\n",
    "\n",
    "corr_pd = pd.DataFrame(corr_matrix, index=numeric_cols, columns=numeric_cols)"
   ]
  },
  {
   "cell_type": "code",
   "execution_count": 32,
   "id": "c412b4f4-da49-456e-8768-a17b1cbf27c6",
   "metadata": {},
   "outputs": [
    {
     "data": {
      "image/png": "[encoded data removed]",
      "text/plain": [
       "<Figure size 800x800 with 2 Axes>"
      ]
     },
     "metadata": {},
     "output_type": "display_data"
    }
   ],
   "source": [
    "# mask = np.triu(np.ones_like(corr_pd, dtype=bool))\n",
    "# masked_matrix = np.where(mask, np.nan, corr_pd)\n",
    "\n",
    "plt.figure(figsize=(8,8))\n",
    "# plt.imshow(masked_matrix, cmap='coolwarm', interpolation='nearest')\n",
    "plt.imshow(corr_pd, cmap='coolwarm', interpolation='nearest')\n",
    "plt.colorbar(label='Correlation')\n",
    "\n",
    "tick_marks = np.arange(len(corr_pd.columns))\n",
    "plt.xticks(tick_marks, corr_pd.columns, rotation=45, ha='right')\n",
    "plt.yticks(tick_marks, corr_pd.index)\n",
    "\n",
    "for i in range(len(corr_pd)):\n",
    "    for j in range(len(corr_pd.columns)):\n",
    "        text = f'{corr_pd.iloc[i,j]:.2f}'\n",
    "        plt.text(j, i, text, ha='center', va='center', color='black', fontsize=8)\n",
    "\n",
    "plt.title('Correlation Heatmap')\n",
    "plt.tight_layout()\n",
    "plt.show()"
   ]
  },
  {
   "cell_type": "markdown",
   "id": "1cedeb70-6503-4298-a1e7-fb49c9d5d7ad",
   "metadata": {
    "jp-MarkdownHeadingCollapsed": true
   },
   "source": [
    "## Return on Ratings Analysis"
   ]
  },
  {
   "cell_type": "code",
   "execution_count": 33,
   "id": "090e2675-0bad-4be5-b04f-5afcec3111a6",
   "metadata": {},
   "outputs": [
    {
     "name": "stderr",
     "output_type": "stream",
     "text": [
      "[Stage 53:==============>                                           (1 + 3) / 4]"
     ]
    },
    {
     "name": "stdout",
     "output_type": "stream",
     "text": [
      "+-----------+----------+------+\n",
      "|price_group|avg_rating| count|\n",
      "+-----------+----------+------+\n",
      "|       < $5|    4.3095| 33789|\n",
      "|   $5 - $10|    4.3566|230291|\n",
      "|  $10 - $20|    4.3807|302294|\n",
      "|  $20 - $50|     4.403|246989|\n",
      "|      > $50|     4.363| 54762|\n",
      "+-----------+----------+------+\n",
      "\n"
     ]
    },
    {
     "name": "stderr",
     "output_type": "stream",
     "text": [
      "                                                                                "
     ]
    }
   ],
   "source": [
    "# grouping price into bins and comparing ratings\n",
    "price_group_df = df.withColumn(\n",
    "    'price_group',\n",
    "    when(df.price == 0.0, '0').\n",
    "    when(df.price < 5, '< $5').\n",
    "    when(df.price < 10, '$5 - $10').\n",
    "    when(df.price < 20, '$10 - $20').\n",
    "    when(df.price < 50, '$20 - $50').\n",
    "    otherwise('> $50')\n",
    ")\n",
    "\n",
    "price_group_df = price_group_df.where(price_group_df.price_group != '0')\n",
    "price_group_count = price_group_df.groupBy('price_group').agg(\n",
    "    round(avg('average_rating'), 4).alias('avg_rating'),\n",
    "    count('*').alias('count'))\n",
    "# price_group_count = price_group_count \\\n",
    "#     .withColumnRenamed('avg(average_rating)', 'average_rating') \\\n",
    "#     .withColumnRenamed('count(1)', 'count')\n",
    "\n",
    "\n",
    "price_group_count = price_group_count.withColumn(\n",
    "    'sort_order',\n",
    "    when(col('price_group') == '< $5', 1)\n",
    "    .when(col('price_group') == '$5 - $10', 2)\n",
    "    .when(col('price_group') == '$10 - $20', 3)\n",
    "    .when(col('price_group') == '$20 - $50', 4)\n",
    "    .when(col('price_group') == '> $50', 5)\n",
    "    .otherwise(6)\n",
    ")\n",
    "\n",
    "price_group_count = price_group_count.orderBy('sort_order').drop('sort_order')\n",
    "\n",
    "price_group_count.show()"
   ]
  },
  {
   "cell_type": "code",
   "execution_count": 34,
   "id": "61cd3ede-6f93-4939-9cb2-c2f1c6f35984",
   "metadata": {},
   "outputs": [
    {
     "name": "stderr",
     "output_type": "stream",
     "text": [
      "[Stage 62:>                                                         (0 + 4) / 4]"
     ]
    },
    {
     "name": "stdout",
     "output_type": "stream",
     "text": [
      "+-----------+------------+\n",
      "|price_group|stdev_rating|\n",
      "+-----------+------------+\n",
      "|       < $5|      0.3601|\n",
      "|   $5 - $10|      0.3447|\n",
      "|  $10 - $20|      0.3321|\n",
      "|  $20 - $50|      0.3171|\n",
      "|      > $50|      0.3706|\n",
      "+-----------+------------+\n",
      "\n"
     ]
    },
    {
     "name": "stderr",
     "output_type": "stream",
     "text": [
      "                                                                                "
     ]
    }
   ],
   "source": [
    "# which price ranges have highest variability in ratings?\n",
    "price_group_stdev = price_group_df.groupBy('price_group').agg(stddev('average_rating'))\n",
    "price_group_stdev = price_group_df.groupBy('price_group').agg(\n",
    "    round(stddev('average_rating'), 4).alias('stdev_rating'))\n",
    "# price_group_stdev = price_group_stdev.withColumnRenamed('stddev(average_rating)', 'stdev_rate_per_price')\n",
    "\n",
    "price_group_stdev = price_group_stdev.withColumn(\n",
    "    'sort_order',\n",
    "    when(col('price_group') == '< $5', 1)\n",
    "    .when(col('price_group') == '$5 - $10', 2)\n",
    "    .when(col('price_group') == '$10 - $20', 3)\n",
    "    .when(col('price_group') == '$20 - $50', 4)\n",
    "    .when(col('price_group') == '> $50', 5)\n",
    "    .otherwise(6)\n",
    ")\n",
    "\n",
    "price_group_stdev = price_group_stdev.orderBy('sort_order').drop('sort_order')\n",
    "\n",
    "price_group_stdev.show()"
   ]
  },
  {
   "cell_type": "markdown",
   "id": "92f2340b-be9a-48bb-bf44-e17a018d5fb8",
   "metadata": {
    "jp-MarkdownHeadingCollapsed": true
   },
   "source": [
    "## Regression Analysis"
   ]
  },
  {
   "cell_type": "code",
   "execution_count": 59,
   "id": "1071f923-a16d-4320-b22f-1c196a7c6833",
   "metadata": {},
   "outputs": [],
   "source": [
    "from pyspark.ml import Pipeline\n",
    "from pyspark.ml.feature import StringIndexer, OneHotEncoder, VectorAssembler\n",
    "from pyspark.ml.regression import LinearRegression\n",
    "from pyspark.ml.evaluation import RegressionEvaluator, BinaryClassificationEvaluator, MulticlassClassificationEvaluator"
   ]
  },
  {
   "cell_type": "markdown",
   "id": "f1698ee6-fbd5-46e5-add1-243a9a028fe2",
   "metadata": {},
   "source": [
    "### Troubleshooting performance issues"
   ]
  },
  {
   "cell_type": "code",
   "execution_count": 36,
   "id": "ba979bf6-f1f5-42fd-8803-b2ebbdb8a5c4",
   "metadata": {},
   "outputs": [],
   "source": [
    "train_df, test_df = df.randomSplit([0.65, 0.35], seed=42)"
   ]
  },
  {
   "cell_type": "code",
   "execution_count": 37,
   "id": "115e8883-c058-493c-adf2-d1f3f6ff7bf0",
   "metadata": {},
   "outputs": [
    {
     "name": "stderr",
     "output_type": "stream",
     "text": [
      "[Stage 68:====================================================>   (13 + 1) / 14]"
     ]
    },
    {
     "name": "stdout",
     "output_type": "stream",
     "text": [
      "19\n"
     ]
    }
   ],
   "source": [
    "print(train_df.rdd.getNumPartitions())"
   ]
  },
  {
   "cell_type": "code",
   "execution_count": 38,
   "id": "743ffc8e-873a-42d4-936a-05ffeecee145",
   "metadata": {},
   "outputs": [
    {
     "name": "stderr",
     "output_type": "stream",
     "text": [
      "[Stage 71:==================================================>     (17 + 2) / 19]"
     ]
    },
    {
     "name": "stdout",
     "output_type": "stream",
     "text": [
      "[60625, 62522, 60875, 63369, 61065, 61305, 59833, 59724, 58492, 61733, 63644, 58168, 61541, 58394, 62920, 61892, 62363, 58130, 10127]\n"
     ]
    },
    {
     "name": "stderr",
     "output_type": "stream",
     "text": [
      "                                                                                "
     ]
    }
   ],
   "source": [
    "print(train_df.rdd.mapPartitions(lambda iter: [sum(1 for I in iter)]).collect())"
   ]
  },
  {
   "cell_type": "code",
   "execution_count": 39,
   "id": "0e907977-f376-47d7-ad0c-774ef91db09a",
   "metadata": {},
   "outputs": [
    {
     "data": {
      "text/plain": [
       "DataFrame[main_category: string, item_name: string, average_rating: double, rating_number: bigint, store: string, categories: array<string>, price: double, description: array<string>, features: array<string>, item_image_count: bigint, video_count: bigint, detail_count: bigint, helpful_vote: bigint, rating: double, text: string, timestamp: bigint, review_dttm: timestamp, title: string, image_count: bigint]"
      ]
     },
     "execution_count": 39,
     "metadata": {},
     "output_type": "execute_result"
    }
   ],
   "source": [
    "train_df.persist(StorageLevel.MEMORY_AND_DISK)"
   ]
  },
  {
   "cell_type": "code",
   "execution_count": 40,
   "id": "4a38a688-5605-43f8-b063-78b64d507fe9",
   "metadata": {},
   "outputs": [],
   "source": [
    "train_df = train_df.coalesce(4)"
   ]
  },
  {
   "cell_type": "code",
   "execution_count": 41,
   "id": "c6adc00c-c7e3-4b60-863c-5e3680f61070",
   "metadata": {},
   "outputs": [
    {
     "name": "stderr",
     "output_type": "stream",
     "text": [
      "                                                                                "
     ]
    },
    {
     "data": {
      "text/plain": [
       "1106020"
      ]
     },
     "execution_count": 41,
     "metadata": {},
     "output_type": "execute_result"
    }
   ],
   "source": [
    "train_df.count()"
   ]
  },
  {
   "cell_type": "markdown",
   "id": "31319afe-a92e-4344-a1e3-434e17e080dc",
   "metadata": {},
   "source": [
    "### Fitting model"
   ]
  },
  {
   "cell_type": "code",
   "execution_count": 42,
   "id": "9bd9998c-fc32-4770-8ceb-a0df308b42a3",
   "metadata": {},
   "outputs": [
    {
     "data": {
      "text/plain": [
       "['average_rating',\n",
       " 'rating_number',\n",
       " 'price',\n",
       " 'item_image_count',\n",
       " 'video_count',\n",
       " 'helpful_vote',\n",
       " 'rating',\n",
       " 'timestamp',\n",
       " 'image_count']"
      ]
     },
     "execution_count": 42,
     "metadata": {},
     "output_type": "execute_result"
    }
   ],
   "source": [
    "# numeric_cols.remove('average_rating')\n",
    "numeric_cols"
   ]
  },
  {
   "cell_type": "code",
   "execution_count": 43,
   "id": "d2092e1c-8ebf-4bb6-ac57-93ae3ac86f11",
   "metadata": {},
   "outputs": [],
   "source": [
    "categoricals = ['main_category', 'store']\n",
    "indexers = [StringIndexer(inputCol=c, outputCol=c+'_idx', handleInvalid='keep') for c in categoricals]\n",
    "encoders = [OneHotEncoder(inputCol=c+'_idx', outputCol=c+'_vec', handleInvalid='keep') for c in categoricals]\n",
    "# encoders = encoders.setHandleInvalid('keep')"
   ]
  },
  {
   "cell_type": "code",
   "execution_count": 44,
   "id": "75a4a59a-d40a-4c28-bff9-93d3a6cc3678",
   "metadata": {},
   "outputs": [],
   "source": [
    "assembler = VectorAssembler(\n",
    "    inputCols=numeric_cols + [c+'_vec' for c in categoricals],\n",
    "    outputCol='assembled_features'\n",
    ")\n",
    "\n",
    "lr = LinearRegression(featuresCol='assembled_features', labelCol='average_rating')\n",
    "pipeline = Pipeline(stages=indexers + encoders + [assembler, lr])"
   ]
  },
  {
   "cell_type": "code",
   "execution_count": 45,
   "id": "0a9f0043-5021-48fb-bb15-bcd1fc247037",
   "metadata": {
    "scrolled": true
   },
   "outputs": [],
   "source": [
    "# train_df.explain(True)"
   ]
  },
  {
   "cell_type": "code",
   "execution_count": 46,
   "id": "a036ad09-2d6d-4df4-8838-7dd2a3581487",
   "metadata": {},
   "outputs": [
    {
     "name": "stderr",
     "output_type": "stream",
     "text": [
      "                                                                                "
     ]
    }
   ],
   "source": [
    "small_df = train_df.limit(1000000)\n",
    "small_model = pipeline.fit(small_df)\n",
    "# model = pipeline.fit(train_df)"
   ]
  },
  {
   "cell_type": "markdown",
   "id": "73f289df-6cb8-40f1-9a2a-2698e262e03c",
   "metadata": {},
   "source": [
    "### Making predictions and evaluating performance"
   ]
  },
  {
   "cell_type": "code",
   "execution_count": 56,
   "id": "61dd722a-ca0d-4330-a2c2-15457094041d",
   "metadata": {},
   "outputs": [],
   "source": [
    "# predictions = model.transform(test_df)\n",
    "predictions = small_model.transform(test_df)"
   ]
  },
  {
   "cell_type": "code",
   "execution_count": 57,
   "id": "91c446a2-08ff-4a81-b96d-eccd400f1d51",
   "metadata": {},
   "outputs": [
    {
     "name": "stderr",
     "output_type": "stream",
     "text": [
      "[Stage 297:>                                                        (0 + 1) / 1]"
     ]
    },
    {
     "name": "stdout",
     "output_type": "stream",
     "text": [
      "+--------------+------------------+\n",
      "|average_rating|        prediction|\n",
      "+--------------+------------------+\n",
      "|           4.1| 4.099998882392591|\n",
      "|           4.1| 4.099998867862826|\n",
      "|           4.2| 4.199999640374461|\n",
      "|           4.2| 4.199999077081959|\n",
      "|           4.2| 4.199999077923063|\n",
      "|           3.9|3.8999989566474493|\n",
      "|           4.2| 4.200001016036387|\n",
      "|           4.2| 4.200001016800173|\n",
      "|           4.3| 4.299999198760213|\n",
      "|           4.4|4.3999997017050525|\n",
      "+--------------+------------------+\n",
      "only showing top 10 rows\n",
      "\n"
     ]
    },
    {
     "name": "stderr",
     "output_type": "stream",
     "text": [
      "                                                                                "
     ]
    }
   ],
   "source": [
    "predictions.select(\n",
    "    'average_rating','prediction'\n",
    ").show(10)"
   ]
  },
  {
   "cell_type": "code",
   "execution_count": 48,
   "id": "db685ea9-5d7e-4db0-8668-530b467d90b1",
   "metadata": {},
   "outputs": [
    {
     "name": "stderr",
     "output_type": "stream",
     "text": [
      "                                                                                "
     ]
    },
    {
     "data": {
      "text/plain": [
       "5.038797042016492e-07"
      ]
     },
     "execution_count": 48,
     "metadata": {},
     "output_type": "execute_result"
    }
   ],
   "source": [
    "rmse_eval = RegressionEvaluator(\n",
    "    labelCol='average_rating',\n",
    "    predictionCol='prediction',\n",
    "    metricName='rmse'\n",
    ")\n",
    "\n",
    "rmse = rmse_eval.evaluate(predictions)\n",
    "rmse\n",
    "# lower is better"
   ]
  },
  {
   "cell_type": "code",
   "execution_count": 49,
   "id": "a4186687-76e9-4412-b5e3-042df01b4b63",
   "metadata": {},
   "outputs": [
    {
     "name": "stderr",
     "output_type": "stream",
     "text": [
      "                                                                                "
     ]
    },
    {
     "data": {
      "text/plain": [
       "2.5389475630634154e-13"
      ]
     },
     "execution_count": 49,
     "metadata": {},
     "output_type": "execute_result"
    }
   ],
   "source": [
    "mse_eval = RegressionEvaluator(\n",
    "    labelCol='average_rating',\n",
    "    predictionCol='prediction',\n",
    "    metricName='mse'    \n",
    ")\n",
    "\n",
    "mse = mse_eval.evaluate(predictions)\n",
    "mse\n",
    "# lower is better"
   ]
  },
  {
   "cell_type": "code",
   "execution_count": 50,
   "id": "3b201d5e-1a58-462d-a00f-e7c26d3bed9e",
   "metadata": {},
   "outputs": [
    {
     "name": "stderr",
     "output_type": "stream",
     "text": [
      "                                                                                "
     ]
    },
    {
     "data": {
      "text/plain": [
       "2.747568346524441e-07"
      ]
     },
     "execution_count": 50,
     "metadata": {},
     "output_type": "execute_result"
    }
   ],
   "source": [
    "mae_eval = RegressionEvaluator(\n",
    "    labelCol='average_rating',\n",
    "    predictionCol='prediction',\n",
    "    metricName='mae'\n",
    ")\n",
    "\n",
    "mae = mae_eval.evaluate(predictions)\n",
    "mae\n",
    "# lower is better"
   ]
  },
  {
   "cell_type": "code",
   "execution_count": 51,
   "id": "b3d66f17-051c-45d4-9ab2-4af9817331fb",
   "metadata": {},
   "outputs": [
    {
     "name": "stderr",
     "output_type": "stream",
     "text": [
      "                                                                                "
     ]
    },
    {
     "data": {
      "text/plain": [
       "0.9999999999989859"
      ]
     },
     "execution_count": 51,
     "metadata": {},
     "output_type": "execute_result"
    }
   ],
   "source": [
    "r2_eval = RegressionEvaluator(\n",
    "    labelCol='average_rating',\n",
    "    predictionCol='prediction',\n",
    "    metricName='r2'    \n",
    ")\n",
    "\n",
    "r2 = r2_eval.evaluate(predictions)\n",
    "r2\n",
    "# higher is better"
   ]
  },
  {
   "cell_type": "markdown",
   "id": "767a2d11-3e5b-42f4-804b-c931d93f651a",
   "metadata": {},
   "source": [
    "# Stop Spark session"
   ]
  },
  {
   "cell_type": "code",
   "execution_count": 52,
   "id": "dee54ad4-7e88-4db6-a145-68a5ab7abba0",
   "metadata": {},
   "outputs": [
    {
     "name": "stdout",
     "output_type": "stream",
     "text": [
      "time to execute entire notebook:  955.1867477893829\n"
     ]
    }
   ],
   "source": [
    "#spark.stop()\n",
    "print('time to execute entire notebook: ',time.time() - notebook_start)"
   ]
  }
 ],
 "metadata": {
  "kernelspec": {
   "display_name": "Python 3 (ipykernel)",
   "language": "python",
   "name": "python3"
  },
  "language_info": {
   "codemirror_mode": {
    "name": "ipython",
    "version": 3
   },
   "file_extension": ".py",
   "mimetype": "text/x-python",
   "name": "python",
   "nbconvert_exporter": "python",
   "pygments_lexer": "ipython3",
   "version": "3.11.0rc1"
  }
 },
 "nbformat": 4,
 "nbformat_minor": 5
}
