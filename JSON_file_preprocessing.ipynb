{
 "cells": [
  {
   "cell_type": "markdown",
   "metadata": {
    "id": "OITo5g-5DDp0"
   },
   "source": [
    "# Cleaning\n",
    "# Reviews: images\n",
    "# Items: images, videos, details"
   ]
  },
  {
   "cell_type": "code",
   "execution_count": 4,
   "metadata": {
    "id": "5Di7Mwk3jUHa"
   },
   "outputs": [],
   "source": [
    "import json\n",
    "import os\n",
    "import pandas as pd"
   ]
  },
  {
   "cell_type": "markdown",
   "metadata": {
    "id": "xeZaHda-FfJo"
   },
   "source": [
    "# All Beauty Reviews\n",
    "All_Beauty.jsonl\n",
    "\n",
    "all_beauty_reviews_cleaned.jsonl"
   ]
  },
  {
   "cell_type": "code",
   "execution_count": 2,
   "metadata": {
    "id": "UmOTu9dNnuBS"
   },
   "outputs": [],
   "source": [
    "# All Beauty Reviews\n",
    "all_beauty_reviews = '/content/All_Beauty.jsonl'\n",
    "all_beauty_reviews = '/home/work/Final Project/(review) All_Beauty.jsonl/All_Beauty.jsonl'"
   ]
  },
  {
   "cell_type": "code",
   "execution_count": 3,
   "metadata": {
    "colab": {
     "base_uri": "https://localhost:8080/"
    },
    "id": "7Yhu0o1GKMs3",
    "outputId": "899a0b02-c941-4b27-f9fd-608c31c6b36e"
   },
   "outputs": [
    {
     "name": "stdout",
     "output_type": "stream",
     "text": [
      "opened\n"
     ]
    }
   ],
   "source": [
    "with open(all_beauty_reviews, 'r') as infile:\n",
    "  print('opened')\n",
    "  for line_num, line in enumerate(infile, 1):\n",
    "    try:\n",
    "        json.loads(line)\n",
    "    except json.JSONDecodeError as e:\n",
    "        print(f\"Error on line {line_num}: {e}\")\n",
    "        print(f\"Problematic line content: {line.strip()}\")"
   ]
  },
  {
   "cell_type": "code",
   "execution_count": 4,
   "metadata": {
    "colab": {
     "base_uri": "https://localhost:8080/"
    },
    "id": "L3ZquNWiE-zh",
    "outputId": "6c270d1c-540d-41b5-a8b9-92181c5af970"
   },
   "outputs": [],
   "source": [
    "keys_to_remove = {\"images\"}\n",
    "\n",
    "with open(all_beauty_reviews, 'r') as infile, open('all_beauty_reviews_cleaned.jsonl', 'w') as outfile:\n",
    "  for line in infile:\n",
    "        try:\n",
    "            obj = json.loads(line)\n",
    "\n",
    "            # Initialize image count\n",
    "            image_count = 0\n",
    "\n",
    "            # Check if 'images' key exists and is a list\n",
    "            if 'images' in obj and isinstance(obj['images'], list):\n",
    "                image_count = len(obj['images'])\n",
    "\n",
    "            cleaned_obj = {k: v for k, v in obj.items() if k not in keys_to_remove}\n",
    "\n",
    "            # Add the image count as a new key\n",
    "            cleaned_obj['image_count'] = image_count\n",
    "\n",
    "            outfile.write(json.dumps(cleaned_obj) + '\\n')\n",
    "\n",
    "        except json.JSONDecodeError as e:\n",
    "            print(f\"Skipping line due to JSONDecodeError: {e} in line: {line.strip()}\")\n",
    "            # Attempt to fix the line (example: replacing single backslashes with double backslashes)\n",
    "            corrected_line = line.strip().replace('\\\\', '\\\\\\\\')\n",
    "            try:\n",
    "                obj = json.loads(corrected_line)\n",
    "                image_count = 0\n",
    "                if 'images' in obj and isinstance(obj['images'], list):\n",
    "                    image_count = len(obj['images'])\n",
    "                cleaned_obj = {k: v for k, v in obj.items() if k not in keys_to_remove}\n",
    "                cleaned_obj['image_count'] = image_count\n",
    "                outfile.write(json.dumps(cleaned_obj) + '\\n')\n",
    "                print(f\"Successfully processed corrected line.\")\n",
    "            except json.JSONDecodeError as e_corrected:\n",
    "                print(f\"Failed to process corrected line: {e_corrected} in line: {corrected_line}\")\n",
    "                # If correction fails, you might skip the line or log it for manual inspection"
   ]
  },
  {
   "cell_type": "code",
   "execution_count": 6,
   "metadata": {
    "colab": {
     "base_uri": "https://localhost:8080/",
     "height": 521
    },
    "id": "8dRPprX-mppC",
    "outputId": "ed708f17-9635-4365-bc08-f18e34b151b6"
   },
   "outputs": [
    {
     "data": {
      "text/html": [
       "<div>\n",
       "<style scoped>\n",
       "    .dataframe tbody tr th:only-of-type {\n",
       "        vertical-align: middle;\n",
       "    }\n",
       "\n",
       "    .dataframe tbody tr th {\n",
       "        vertical-align: top;\n",
       "    }\n",
       "\n",
       "    .dataframe thead th {\n",
       "        text-align: right;\n",
       "    }\n",
       "</style>\n",
       "<table border=\"1\" class=\"dataframe\">\n",
       "  <thead>\n",
       "    <tr style=\"text-align: right;\">\n",
       "      <th></th>\n",
       "      <th>rating</th>\n",
       "      <th>title</th>\n",
       "      <th>text</th>\n",
       "      <th>asin</th>\n",
       "      <th>parent_asin</th>\n",
       "      <th>user_id</th>\n",
       "      <th>timestamp</th>\n",
       "      <th>helpful_vote</th>\n",
       "      <th>verified_purchase</th>\n",
       "      <th>image_count</th>\n",
       "    </tr>\n",
       "  </thead>\n",
       "  <tbody>\n",
       "    <tr>\n",
       "      <th>0</th>\n",
       "      <td>5</td>\n",
       "      <td>Such a lovely scent but not overpowering.</td>\n",
       "      <td>This spray is really nice. It smells really go...</td>\n",
       "      <td>B00YQ6X8EO</td>\n",
       "      <td>B00YQ6X8EO</td>\n",
       "      <td>AGKHLEW2SOWHNMFQIJGBECAF7INQ</td>\n",
       "      <td>2020-05-05 14:08:48.923</td>\n",
       "      <td>0</td>\n",
       "      <td>True</td>\n",
       "      <td>0</td>\n",
       "    </tr>\n",
       "    <tr>\n",
       "      <th>1</th>\n",
       "      <td>4</td>\n",
       "      <td>Works great but smells a little weird.</td>\n",
       "      <td>This product does what I need it to do, I just...</td>\n",
       "      <td>B081TJ8YS3</td>\n",
       "      <td>B081TJ8YS3</td>\n",
       "      <td>AGKHLEW2SOWHNMFQIJGBECAF7INQ</td>\n",
       "      <td>2020-05-04 18:10:55.070</td>\n",
       "      <td>1</td>\n",
       "      <td>True</td>\n",
       "      <td>0</td>\n",
       "    </tr>\n",
       "    <tr>\n",
       "      <th>2</th>\n",
       "      <td>5</td>\n",
       "      <td>Yes!</td>\n",
       "      <td>Smells good, feels great!</td>\n",
       "      <td>B07PNNCSP9</td>\n",
       "      <td>B097R46CSY</td>\n",
       "      <td>AE74DYR3QUGVPZJ3P7RFWBGIX7XQ</td>\n",
       "      <td>2020-05-16 21:41:06.052</td>\n",
       "      <td>2</td>\n",
       "      <td>True</td>\n",
       "      <td>0</td>\n",
       "    </tr>\n",
       "    <tr>\n",
       "      <th>3</th>\n",
       "      <td>1</td>\n",
       "      <td>Synthetic feeling</td>\n",
       "      <td>Felt synthetic</td>\n",
       "      <td>B09JS339BZ</td>\n",
       "      <td>B09JS339BZ</td>\n",
       "      <td>AFQLNQNQYFWQZPJQZS6V3NZU4QBQ</td>\n",
       "      <td>2022-01-28 18:13:50.220</td>\n",
       "      <td>0</td>\n",
       "      <td>True</td>\n",
       "      <td>0</td>\n",
       "    </tr>\n",
       "    <tr>\n",
       "      <th>4</th>\n",
       "      <td>5</td>\n",
       "      <td>A+</td>\n",
       "      <td>Love it</td>\n",
       "      <td>B08BZ63GMJ</td>\n",
       "      <td>B08BZ63GMJ</td>\n",
       "      <td>AFQLNQNQYFWQZPJQZS6V3NZU4QBQ</td>\n",
       "      <td>2020-12-30 10:02:43.534</td>\n",
       "      <td>0</td>\n",
       "      <td>True</td>\n",
       "      <td>0</td>\n",
       "    </tr>\n",
       "  </tbody>\n",
       "</table>\n",
       "</div>"
      ],
      "text/plain": [
       "   rating                                      title  \\\n",
       "0       5  Such a lovely scent but not overpowering.   \n",
       "1       4     Works great but smells a little weird.   \n",
       "2       5                                       Yes!   \n",
       "3       1                          Synthetic feeling   \n",
       "4       5                                         A+   \n",
       "\n",
       "                                                text        asin parent_asin  \\\n",
       "0  This spray is really nice. It smells really go...  B00YQ6X8EO  B00YQ6X8EO   \n",
       "1  This product does what I need it to do, I just...  B081TJ8YS3  B081TJ8YS3   \n",
       "2                          Smells good, feels great!  B07PNNCSP9  B097R46CSY   \n",
       "3                                     Felt synthetic  B09JS339BZ  B09JS339BZ   \n",
       "4                                            Love it  B08BZ63GMJ  B08BZ63GMJ   \n",
       "\n",
       "                        user_id               timestamp  helpful_vote  \\\n",
       "0  AGKHLEW2SOWHNMFQIJGBECAF7INQ 2020-05-05 14:08:48.923             0   \n",
       "1  AGKHLEW2SOWHNMFQIJGBECAF7INQ 2020-05-04 18:10:55.070             1   \n",
       "2  AE74DYR3QUGVPZJ3P7RFWBGIX7XQ 2020-05-16 21:41:06.052             2   \n",
       "3  AFQLNQNQYFWQZPJQZS6V3NZU4QBQ 2022-01-28 18:13:50.220             0   \n",
       "4  AFQLNQNQYFWQZPJQZS6V3NZU4QBQ 2020-12-30 10:02:43.534             0   \n",
       "\n",
       "   verified_purchase  image_count  \n",
       "0               True            0  \n",
       "1               True            0  \n",
       "2               True            0  \n",
       "3               True            0  \n",
       "4               True            0  "
      ]
     },
     "execution_count": 6,
     "metadata": {},
     "output_type": "execute_result"
    }
   ],
   "source": [
    "# cleaned_df = pd.read_json('/content/all_beauty_reviews_cleaned.jsonl', lines=True)\n",
    "cleaned_df = pd.read_json('/home/work/Final Project/all_beauty_reviews_cleaned.jsonl', lines=True)\n",
    "cleaned_df.head(5)"
   ]
  },
  {
   "cell_type": "code",
   "execution_count": 7,
   "metadata": {
    "colab": {
     "base_uri": "https://localhost:8080/",
     "height": 331
    },
    "id": "DO7jbkdcGDFY",
    "outputId": "8e4319f4-b3f3-487f-89ea-ac7464f9b0a2"
   },
   "outputs": [
    {
     "name": "stdout",
     "output_type": "stream",
     "text": [
      "<class 'pandas.core.frame.DataFrame'>\n",
      "RangeIndex: 701528 entries, 0 to 701527\n",
      "Data columns (total 10 columns):\n",
      " #   Column             Non-Null Count   Dtype         \n",
      "---  ------             --------------   -----         \n",
      " 0   rating             701528 non-null  int64         \n",
      " 1   title              701528 non-null  object        \n",
      " 2   text               701528 non-null  object        \n",
      " 3   images             701528 non-null  object        \n",
      " 4   asin               701528 non-null  object        \n",
      " 5   parent_asin        701528 non-null  object        \n",
      " 6   user_id            701528 non-null  object        \n",
      " 7   timestamp          701528 non-null  datetime64[ns]\n",
      " 8   helpful_vote       701528 non-null  int64         \n",
      " 9   verified_purchase  701528 non-null  bool          \n",
      "dtypes: bool(1), datetime64[ns](1), int64(2), object(6)\n",
      "memory usage: 48.8+ MB\n"
     ]
    }
   ],
   "source": [
    "# get info about json file\n",
    "all_beauty_df = pd.read_json(all_beauty_reviews, lines=True)\n",
    "all_beauty_df.info()"
   ]
  },
  {
   "cell_type": "code",
   "execution_count": 8,
   "metadata": {
    "colab": {
     "base_uri": "https://localhost:8080/"
    },
    "id": "CENxLbyZF3Kh",
    "outputId": "07831333-0fd1-4e64-e3aa-858551132306"
   },
   "outputs": [
    {
     "name": "stdout",
     "output_type": "stream",
     "text": [
      "<class 'pandas.core.frame.DataFrame'>\n",
      "RangeIndex: 701528 entries, 0 to 701527\n",
      "Data columns (total 10 columns):\n",
      " #   Column             Non-Null Count   Dtype         \n",
      "---  ------             --------------   -----         \n",
      " 0   rating             701528 non-null  int64         \n",
      " 1   title              701528 non-null  object        \n",
      " 2   text               701528 non-null  object        \n",
      " 3   asin               701528 non-null  object        \n",
      " 4   parent_asin        701528 non-null  object        \n",
      " 5   user_id            701528 non-null  object        \n",
      " 6   timestamp          701528 non-null  datetime64[ns]\n",
      " 7   helpful_vote       701528 non-null  int64         \n",
      " 8   verified_purchase  701528 non-null  bool          \n",
      " 9   image_count        701528 non-null  int64         \n",
      "dtypes: bool(1), datetime64[ns](1), int64(3), object(5)\n",
      "memory usage: 48.8+ MB\n"
     ]
    }
   ],
   "source": [
    "# info about json file after removing image key\n",
    "cleaned_df.info()"
   ]
  },
  {
   "cell_type": "code",
   "execution_count": 5,
   "metadata": {},
   "outputs": [
    {
     "ename": "NameError",
     "evalue": "name 'all_beauty_df' is not defined",
     "output_type": "error",
     "traceback": [
      "\u001b[31m---------------------------------------------------------------------------\u001b[39m",
      "\u001b[31mNameError\u001b[39m                                 Traceback (most recent call last)",
      "\u001b[36mCell\u001b[39m\u001b[36m \u001b[39m\u001b[32mIn[5]\u001b[39m\u001b[32m, line 1\u001b[39m\n\u001b[32m----> \u001b[39m\u001b[32m1\u001b[39m \u001b[43mall_beauty_df\u001b[49m.schema == cleaned_df.schema\n",
      "\u001b[31mNameError\u001b[39m: name 'all_beauty_df' is not defined"
     ]
    }
   ],
   "source": [
    "all_beauty_df.schema == cleaned_df.schema"
   ]
  },
  {
   "cell_type": "markdown",
   "metadata": {
    "id": "A8ldu2ScFiIw"
   },
   "source": [
    "# All Beauty Items\n",
    "meta_All_Beauty.jsonl\n",
    "\n",
    "all_beauty_items_cleaned.jsonl"
   ]
  },
  {
   "cell_type": "code",
   "execution_count": 9,
   "metadata": {
    "id": "QAsIj6vdFkHb"
   },
   "outputs": [],
   "source": [
    "# all beauty items\n",
    "all_beauty_items = '/content/meta_All_Beauty.jsonl'\n",
    "all_beauty_items = '/home/work/Final Project/(items) meta_All_Beauty.jsonl/meta_All_Beauty.jsonl'"
   ]
  },
  {
   "cell_type": "code",
   "execution_count": 15,
   "metadata": {
    "id": "wNIF0n1vI9wB"
   },
   "outputs": [],
   "source": [
    "keys_to_remove = {\"images\", 'videos', 'details', 'bought_together'}\n",
    "# did i also delete author and subtitle accidentally? \n",
    "\n",
    "with open(all_beauty_items, 'r') as infile, open('all_beauty_items_cleaned.jsonl', 'w') as outfile:\n",
    "  for line in infile:\n",
    "        try:\n",
    "            obj = json.loads(line)\n",
    "\n",
    "            # Initialize counts\n",
    "            image_count = 0\n",
    "            video_count = 0\n",
    "            detail_count = 0\n",
    "\n",
    "            # Check if 'images' key exists and is a list\n",
    "            if 'images' in obj and isinstance(obj['images'], list):\n",
    "                image_count = len(obj['images'])\n",
    "\n",
    "            # check if 'videos' key exists and is a list\n",
    "            if 'videos' in obj and isinstance(obj['videos'], list):\n",
    "                video_count = len(obj['videos'])\n",
    "\n",
    "            # check if 'detail' key exists and is a list\n",
    "            if 'details' in obj and isinstance(obj['details'], list):\n",
    "                detail_count = len(obj['details'])\n",
    "\n",
    "            cleaned_obj = {k: v for k, v in obj.items() if k not in keys_to_remove}\n",
    "\n",
    "            # Add the image count as a new key\n",
    "            cleaned_obj['image_count'] = image_count\n",
    "\n",
    "            # Add the video count as a new key\n",
    "            cleaned_obj['video_count'] = video_count\n",
    "\n",
    "            # Add the detail count as a new key\n",
    "            cleaned_obj['detail_count'] = detail_count\n",
    "\n",
    "            outfile.write(json.dumps(cleaned_obj) + '\\n')\n",
    "\n",
    "        except json.JSONDecodeError as e:\n",
    "            print(f\"Skipping line due to JSONDecodeError: {e} in line: {line.strip()}\")\n",
    "            # Attempt to fix the line (example: replacing single backslashes with double backslashes)\n",
    "            corrected_line = line.strip().replace('\\\\', '\\\\\\\\')\n",
    "            try:\n",
    "                obj = json.loads(corrected_line)\n",
    "                image_count = 0\n",
    "                video_count = 0\n",
    "                detail_count = 0\n",
    "                if 'images' in obj and isinstance(obj['images'], list):\n",
    "                    image_count = len(obj['images'])\n",
    "                if 'videos' in obj and isinstance(obj['videos'], list):\n",
    "                    video_count = len(obj['videos'])\n",
    "                if 'details' in obj and isinstance(obj['details'], list):\n",
    "                    detail_count = len(obj['details'])\n",
    "                cleaned_obj = {k: v for k, v in obj.items() if k not in keys_to_remove}\n",
    "                cleaned_obj['image_count'] = image_count\n",
    "                cleaned_obj['video_count'] = video_count\n",
    "                cleaned_obj['detail_count'] = detail_count\n",
    "                outfile.write(json.dumps(cleaned_obj) + '\\n')\n",
    "                print(f\"Successfully processed corrected line.\")\n",
    "            except json.JSONDecodeError as e_corrected:\n",
    "                print(f\"Failed to process corrected line: {e_corrected} in line: {corrected_line}\")\n",
    "                # If correction fails, you might skip the line or log it for manual inspection"
   ]
  },
  {
   "cell_type": "code",
   "execution_count": 11,
   "metadata": {
    "colab": {
     "base_uri": "https://localhost:8080/",
     "height": 625
    },
    "id": "19ua_1ZUJoJA",
    "outputId": "f8b58479-834f-4cc9-b9bf-86d15dd925af"
   },
   "outputs": [
    {
     "data": {
      "text/html": [
       "<div>\n",
       "<style scoped>\n",
       "    .dataframe tbody tr th:only-of-type {\n",
       "        vertical-align: middle;\n",
       "    }\n",
       "\n",
       "    .dataframe tbody tr th {\n",
       "        vertical-align: top;\n",
       "    }\n",
       "\n",
       "    .dataframe thead th {\n",
       "        text-align: right;\n",
       "    }\n",
       "</style>\n",
       "<table border=\"1\" class=\"dataframe\">\n",
       "  <thead>\n",
       "    <tr style=\"text-align: right;\">\n",
       "      <th></th>\n",
       "      <th>main_category</th>\n",
       "      <th>title</th>\n",
       "      <th>average_rating</th>\n",
       "      <th>rating_number</th>\n",
       "      <th>features</th>\n",
       "      <th>description</th>\n",
       "      <th>price</th>\n",
       "      <th>images</th>\n",
       "      <th>videos</th>\n",
       "      <th>store</th>\n",
       "      <th>categories</th>\n",
       "      <th>details</th>\n",
       "      <th>parent_asin</th>\n",
       "      <th>bought_together</th>\n",
       "    </tr>\n",
       "  </thead>\n",
       "  <tbody>\n",
       "    <tr>\n",
       "      <th>0</th>\n",
       "      <td>All Beauty</td>\n",
       "      <td>Howard LC0008 Leather Conditioner, 8-Ounce (4-...</td>\n",
       "      <td>4.8</td>\n",
       "      <td>10</td>\n",
       "      <td>[]</td>\n",
       "      <td>[]</td>\n",
       "      <td>NaN</td>\n",
       "      <td>[{'thumb': 'https://m.media-amazon.com/images/...</td>\n",
       "      <td>[]</td>\n",
       "      <td>Howard Products</td>\n",
       "      <td>[]</td>\n",
       "      <td>{'Package Dimensions': '7.1 x 5.5 x 3 inches; ...</td>\n",
       "      <td>B01CUPMQZE</td>\n",
       "      <td>NaN</td>\n",
       "    </tr>\n",
       "    <tr>\n",
       "      <th>1</th>\n",
       "      <td>All Beauty</td>\n",
       "      <td>Yes to Tomatoes Detoxifying Charcoal Cleanser ...</td>\n",
       "      <td>4.5</td>\n",
       "      <td>3</td>\n",
       "      <td>[]</td>\n",
       "      <td>[]</td>\n",
       "      <td>NaN</td>\n",
       "      <td>[{'thumb': 'https://m.media-amazon.com/images/...</td>\n",
       "      <td>[]</td>\n",
       "      <td>Yes To</td>\n",
       "      <td>[]</td>\n",
       "      <td>{'Item Form': 'Powder', 'Skin Type': 'Acne Pro...</td>\n",
       "      <td>B076WQZGPM</td>\n",
       "      <td>NaN</td>\n",
       "    </tr>\n",
       "    <tr>\n",
       "      <th>2</th>\n",
       "      <td>All Beauty</td>\n",
       "      <td>Eye Patch Black Adult with Tie Band (6 Per Pack)</td>\n",
       "      <td>4.4</td>\n",
       "      <td>26</td>\n",
       "      <td>[]</td>\n",
       "      <td>[]</td>\n",
       "      <td>NaN</td>\n",
       "      <td>[{'thumb': 'https://m.media-amazon.com/images/...</td>\n",
       "      <td>[]</td>\n",
       "      <td>Levine Health Products</td>\n",
       "      <td>[]</td>\n",
       "      <td>{'Manufacturer': 'Levine Health Products'}</td>\n",
       "      <td>B000B658RI</td>\n",
       "      <td>NaN</td>\n",
       "    </tr>\n",
       "    <tr>\n",
       "      <th>3</th>\n",
       "      <td>All Beauty</td>\n",
       "      <td>Tattoo Eyebrow Stickers, Waterproof Eyebrow, 4...</td>\n",
       "      <td>3.1</td>\n",
       "      <td>102</td>\n",
       "      <td>[]</td>\n",
       "      <td>[]</td>\n",
       "      <td>NaN</td>\n",
       "      <td>[{'thumb': 'https://m.media-amazon.com/images/...</td>\n",
       "      <td>[]</td>\n",
       "      <td>Cherioll</td>\n",
       "      <td>[]</td>\n",
       "      <td>{'Brand': 'Cherioll', 'Item Form': 'Powder', '...</td>\n",
       "      <td>B088FKY3VD</td>\n",
       "      <td>NaN</td>\n",
       "    </tr>\n",
       "    <tr>\n",
       "      <th>4</th>\n",
       "      <td>All Beauty</td>\n",
       "      <td>Precision Plunger Bars for Cartridge Grips – 9...</td>\n",
       "      <td>4.3</td>\n",
       "      <td>7</td>\n",
       "      <td>[Material: 304 Stainless Steel; Brass tip, Len...</td>\n",
       "      <td>[The Precision Plunger Bars are designed to wo...</td>\n",
       "      <td>NaN</td>\n",
       "      <td>[{'thumb': 'https://m.media-amazon.com/images/...</td>\n",
       "      <td>[]</td>\n",
       "      <td>Precision</td>\n",
       "      <td>[]</td>\n",
       "      <td>{'UPC': '644287689178'}</td>\n",
       "      <td>B07NGFDN6G</td>\n",
       "      <td>NaN</td>\n",
       "    </tr>\n",
       "  </tbody>\n",
       "</table>\n",
       "</div>"
      ],
      "text/plain": [
       "  main_category                                              title  \\\n",
       "0    All Beauty  Howard LC0008 Leather Conditioner, 8-Ounce (4-...   \n",
       "1    All Beauty  Yes to Tomatoes Detoxifying Charcoal Cleanser ...   \n",
       "2    All Beauty   Eye Patch Black Adult with Tie Band (6 Per Pack)   \n",
       "3    All Beauty  Tattoo Eyebrow Stickers, Waterproof Eyebrow, 4...   \n",
       "4    All Beauty  Precision Plunger Bars for Cartridge Grips – 9...   \n",
       "\n",
       "   average_rating  rating_number  \\\n",
       "0             4.8             10   \n",
       "1             4.5              3   \n",
       "2             4.4             26   \n",
       "3             3.1            102   \n",
       "4             4.3              7   \n",
       "\n",
       "                                            features  \\\n",
       "0                                                 []   \n",
       "1                                                 []   \n",
       "2                                                 []   \n",
       "3                                                 []   \n",
       "4  [Material: 304 Stainless Steel; Brass tip, Len...   \n",
       "\n",
       "                                         description  price  \\\n",
       "0                                                 []    NaN   \n",
       "1                                                 []    NaN   \n",
       "2                                                 []    NaN   \n",
       "3                                                 []    NaN   \n",
       "4  [The Precision Plunger Bars are designed to wo...    NaN   \n",
       "\n",
       "                                              images videos  \\\n",
       "0  [{'thumb': 'https://m.media-amazon.com/images/...     []   \n",
       "1  [{'thumb': 'https://m.media-amazon.com/images/...     []   \n",
       "2  [{'thumb': 'https://m.media-amazon.com/images/...     []   \n",
       "3  [{'thumb': 'https://m.media-amazon.com/images/...     []   \n",
       "4  [{'thumb': 'https://m.media-amazon.com/images/...     []   \n",
       "\n",
       "                    store categories  \\\n",
       "0         Howard Products         []   \n",
       "1                  Yes To         []   \n",
       "2  Levine Health Products         []   \n",
       "3                Cherioll         []   \n",
       "4               Precision         []   \n",
       "\n",
       "                                             details parent_asin  \\\n",
       "0  {'Package Dimensions': '7.1 x 5.5 x 3 inches; ...  B01CUPMQZE   \n",
       "1  {'Item Form': 'Powder', 'Skin Type': 'Acne Pro...  B076WQZGPM   \n",
       "2         {'Manufacturer': 'Levine Health Products'}  B000B658RI   \n",
       "3  {'Brand': 'Cherioll', 'Item Form': 'Powder', '...  B088FKY3VD   \n",
       "4                            {'UPC': '644287689178'}  B07NGFDN6G   \n",
       "\n",
       "   bought_together  \n",
       "0              NaN  \n",
       "1              NaN  \n",
       "2              NaN  \n",
       "3              NaN  \n",
       "4              NaN  "
      ]
     },
     "execution_count": 11,
     "metadata": {},
     "output_type": "execute_result"
    }
   ],
   "source": [
    "# get info about json file\n",
    "all_beauty_items_df = pd.read_json(all_beauty_items, lines=True)\n",
    "all_beauty_items_df.head(5)"
   ]
  },
  {
   "cell_type": "code",
   "execution_count": 12,
   "metadata": {
    "colab": {
     "base_uri": "https://localhost:8080/"
    },
    "id": "PzrGI8zrMAE4",
    "outputId": "f9915a76-2eb7-4237-effc-fecfe804785a"
   },
   "outputs": [
    {
     "name": "stdout",
     "output_type": "stream",
     "text": [
      "<class 'pandas.core.frame.DataFrame'>\n",
      "RangeIndex: 112590 entries, 0 to 112589\n",
      "Data columns (total 14 columns):\n",
      " #   Column           Non-Null Count   Dtype  \n",
      "---  ------           --------------   -----  \n",
      " 0   main_category    112590 non-null  object \n",
      " 1   title            112590 non-null  object \n",
      " 2   average_rating   112590 non-null  float64\n",
      " 3   rating_number    112590 non-null  int64  \n",
      " 4   features         112590 non-null  object \n",
      " 5   description      112590 non-null  object \n",
      " 6   price            17704 non-null   float64\n",
      " 7   images           112590 non-null  object \n",
      " 8   videos           112590 non-null  object \n",
      " 9   store            101259 non-null  object \n",
      " 10  categories       112590 non-null  object \n",
      " 11  details          112590 non-null  object \n",
      " 12  parent_asin      112590 non-null  object \n",
      " 13  bought_together  0 non-null       float64\n",
      "dtypes: float64(3), int64(1), object(10)\n",
      "memory usage: 12.0+ MB\n"
     ]
    }
   ],
   "source": [
    "all_beauty_items_df.info()"
   ]
  },
  {
   "cell_type": "code",
   "execution_count": 16,
   "metadata": {
    "colab": {
     "base_uri": "https://localhost:8080/"
    },
    "id": "i41N69B1MMt0",
    "outputId": "702a7c5d-116f-462e-cbfd-004f5206fe08"
   },
   "outputs": [
    {
     "name": "stdout",
     "output_type": "stream",
     "text": [
      "<class 'pandas.core.frame.DataFrame'>\n",
      "RangeIndex: 112590 entries, 0 to 112589\n",
      "Data columns (total 13 columns):\n",
      " #   Column          Non-Null Count   Dtype  \n",
      "---  ------          --------------   -----  \n",
      " 0   main_category   112590 non-null  object \n",
      " 1   title           112590 non-null  object \n",
      " 2   average_rating  112590 non-null  float64\n",
      " 3   rating_number   112590 non-null  int64  \n",
      " 4   features        112590 non-null  object \n",
      " 5   description     112590 non-null  object \n",
      " 6   price           17704 non-null   float64\n",
      " 7   store           101259 non-null  object \n",
      " 8   categories      112590 non-null  object \n",
      " 9   parent_asin     112590 non-null  object \n",
      " 10  image_count     112590 non-null  int64  \n",
      " 11  video_count     112590 non-null  int64  \n",
      " 12  detail_count    112590 non-null  int64  \n",
      "dtypes: float64(2), int64(4), object(7)\n",
      "memory usage: 11.2+ MB\n"
     ]
    }
   ],
   "source": [
    "# all_beauty_items_cleaned_df = pd.read_json('/content/all_beauty_items_cleaned.jsonl', lines=True)\n",
    "all_beauty_items_cleaned_df = pd.read_json('/home/work/Final Project/all_beauty_items_cleaned.jsonl', lines=True)\n",
    "all_beauty_items_cleaned_df.info()"
   ]
  },
  {
   "cell_type": "code",
   "execution_count": 17,
   "metadata": {
    "colab": {
     "base_uri": "https://localhost:8080/",
     "height": 625
    },
    "id": "QDviPgPEMPuu",
    "outputId": "d6f7f4ff-0993-4455-b22d-6f8a4d0ed7f0"
   },
   "outputs": [
    {
     "data": {
      "text/html": [
       "<div>\n",
       "<style scoped>\n",
       "    .dataframe tbody tr th:only-of-type {\n",
       "        vertical-align: middle;\n",
       "    }\n",
       "\n",
       "    .dataframe tbody tr th {\n",
       "        vertical-align: top;\n",
       "    }\n",
       "\n",
       "    .dataframe thead th {\n",
       "        text-align: right;\n",
       "    }\n",
       "</style>\n",
       "<table border=\"1\" class=\"dataframe\">\n",
       "  <thead>\n",
       "    <tr style=\"text-align: right;\">\n",
       "      <th></th>\n",
       "      <th>main_category</th>\n",
       "      <th>title</th>\n",
       "      <th>average_rating</th>\n",
       "      <th>rating_number</th>\n",
       "      <th>features</th>\n",
       "      <th>description</th>\n",
       "      <th>price</th>\n",
       "      <th>store</th>\n",
       "      <th>categories</th>\n",
       "      <th>parent_asin</th>\n",
       "      <th>image_count</th>\n",
       "      <th>video_count</th>\n",
       "      <th>detail_count</th>\n",
       "    </tr>\n",
       "  </thead>\n",
       "  <tbody>\n",
       "    <tr>\n",
       "      <th>0</th>\n",
       "      <td>All Beauty</td>\n",
       "      <td>Howard LC0008 Leather Conditioner, 8-Ounce (4-...</td>\n",
       "      <td>4.8</td>\n",
       "      <td>10</td>\n",
       "      <td>[]</td>\n",
       "      <td>[]</td>\n",
       "      <td>NaN</td>\n",
       "      <td>Howard Products</td>\n",
       "      <td>[]</td>\n",
       "      <td>B01CUPMQZE</td>\n",
       "      <td>2</td>\n",
       "      <td>0</td>\n",
       "      <td>0</td>\n",
       "    </tr>\n",
       "    <tr>\n",
       "      <th>1</th>\n",
       "      <td>All Beauty</td>\n",
       "      <td>Yes to Tomatoes Detoxifying Charcoal Cleanser ...</td>\n",
       "      <td>4.5</td>\n",
       "      <td>3</td>\n",
       "      <td>[]</td>\n",
       "      <td>[]</td>\n",
       "      <td>NaN</td>\n",
       "      <td>Yes To</td>\n",
       "      <td>[]</td>\n",
       "      <td>B076WQZGPM</td>\n",
       "      <td>2</td>\n",
       "      <td>0</td>\n",
       "      <td>0</td>\n",
       "    </tr>\n",
       "    <tr>\n",
       "      <th>2</th>\n",
       "      <td>All Beauty</td>\n",
       "      <td>Eye Patch Black Adult with Tie Band (6 Per Pack)</td>\n",
       "      <td>4.4</td>\n",
       "      <td>26</td>\n",
       "      <td>[]</td>\n",
       "      <td>[]</td>\n",
       "      <td>NaN</td>\n",
       "      <td>Levine Health Products</td>\n",
       "      <td>[]</td>\n",
       "      <td>B000B658RI</td>\n",
       "      <td>2</td>\n",
       "      <td>0</td>\n",
       "      <td>0</td>\n",
       "    </tr>\n",
       "    <tr>\n",
       "      <th>3</th>\n",
       "      <td>All Beauty</td>\n",
       "      <td>Tattoo Eyebrow Stickers, Waterproof Eyebrow, 4...</td>\n",
       "      <td>3.1</td>\n",
       "      <td>102</td>\n",
       "      <td>[]</td>\n",
       "      <td>[]</td>\n",
       "      <td>NaN</td>\n",
       "      <td>Cherioll</td>\n",
       "      <td>[]</td>\n",
       "      <td>B088FKY3VD</td>\n",
       "      <td>7</td>\n",
       "      <td>0</td>\n",
       "      <td>0</td>\n",
       "    </tr>\n",
       "    <tr>\n",
       "      <th>4</th>\n",
       "      <td>All Beauty</td>\n",
       "      <td>Precision Plunger Bars for Cartridge Grips – 9...</td>\n",
       "      <td>4.3</td>\n",
       "      <td>7</td>\n",
       "      <td>[Material: 304 Stainless Steel; Brass tip, Len...</td>\n",
       "      <td>[The Precision Plunger Bars are designed to wo...</td>\n",
       "      <td>NaN</td>\n",
       "      <td>Precision</td>\n",
       "      <td>[]</td>\n",
       "      <td>B07NGFDN6G</td>\n",
       "      <td>1</td>\n",
       "      <td>0</td>\n",
       "      <td>0</td>\n",
       "    </tr>\n",
       "  </tbody>\n",
       "</table>\n",
       "</div>"
      ],
      "text/plain": [
       "  main_category                                              title  \\\n",
       "0    All Beauty  Howard LC0008 Leather Conditioner, 8-Ounce (4-...   \n",
       "1    All Beauty  Yes to Tomatoes Detoxifying Charcoal Cleanser ...   \n",
       "2    All Beauty   Eye Patch Black Adult with Tie Band (6 Per Pack)   \n",
       "3    All Beauty  Tattoo Eyebrow Stickers, Waterproof Eyebrow, 4...   \n",
       "4    All Beauty  Precision Plunger Bars for Cartridge Grips – 9...   \n",
       "\n",
       "   average_rating  rating_number  \\\n",
       "0             4.8             10   \n",
       "1             4.5              3   \n",
       "2             4.4             26   \n",
       "3             3.1            102   \n",
       "4             4.3              7   \n",
       "\n",
       "                                            features  \\\n",
       "0                                                 []   \n",
       "1                                                 []   \n",
       "2                                                 []   \n",
       "3                                                 []   \n",
       "4  [Material: 304 Stainless Steel; Brass tip, Len...   \n",
       "\n",
       "                                         description  price  \\\n",
       "0                                                 []    NaN   \n",
       "1                                                 []    NaN   \n",
       "2                                                 []    NaN   \n",
       "3                                                 []    NaN   \n",
       "4  [The Precision Plunger Bars are designed to wo...    NaN   \n",
       "\n",
       "                    store categories parent_asin  image_count  video_count  \\\n",
       "0         Howard Products         []  B01CUPMQZE            2            0   \n",
       "1                  Yes To         []  B076WQZGPM            2            0   \n",
       "2  Levine Health Products         []  B000B658RI            2            0   \n",
       "3                Cherioll         []  B088FKY3VD            7            0   \n",
       "4               Precision         []  B07NGFDN6G            1            0   \n",
       "\n",
       "   detail_count  \n",
       "0             0  \n",
       "1             0  \n",
       "2             0  \n",
       "3             0  \n",
       "4             0  "
      ]
     },
     "execution_count": 17,
     "metadata": {},
     "output_type": "execute_result"
    }
   ],
   "source": [
    "all_beauty_items_cleaned_df.head(5)"
   ]
  },
  {
   "cell_type": "markdown",
   "metadata": {
    "id": "BZxNmpMIOagf"
   },
   "source": [
    "# Beauty and Personal Care Items\n",
    "Beauty_and_Personal_Care.jsonl"
   ]
  },
  {
   "cell_type": "code",
   "execution_count": 2,
   "metadata": {
    "id": "OTRt5DBeMksl"
   },
   "outputs": [],
   "source": [
    "beauty_and_personal_care_items = '/content/Beauty_and_Personal_Care.jsonl'\n",
    "beauty_and_personal_care_items = '/home/work/Final Project/meta_Beauty_and_Personal_Care.jsonl/meta_Beauty_and_Personal_Care.jsonl'"
   ]
  },
  {
   "cell_type": "code",
   "execution_count": 3,
   "metadata": {},
   "outputs": [],
   "source": [
    "keys_to_remove = {\"images\", 'videos', 'details', 'bought_together'}\n",
    "\n",
    "\n",
    "with open(beauty_and_personal_care_items, 'r') as infile, open('bapc_items_cleaned.jsonl', 'w') as outfile:\n",
    "  for line in infile:\n",
    "        try:\n",
    "            obj = json.loads(line)\n",
    "\n",
    "            # Initialize counts\n",
    "            image_count = 0\n",
    "            video_count = 0\n",
    "            detail_count = 0\n",
    "\n",
    "            # Check if 'images' key exists and is a list\n",
    "            if 'images' in obj and isinstance(obj['images'], list):\n",
    "                image_count = len(obj['images'])\n",
    "\n",
    "            # check if 'videos' key exists and is a list\n",
    "            if 'videos' in obj and isinstance(obj['videos'], list):\n",
    "                video_count = len(obj['videos'])\n",
    "\n",
    "            # check if 'detail' key exists and is a list\n",
    "            if 'details' in obj and isinstance(obj['details'], list):\n",
    "                detail_count = len(obj['details'])\n",
    "\n",
    "            cleaned_obj = {k: v for k, v in obj.items() if k not in keys_to_remove}\n",
    "\n",
    "            # Add the image count as a new key\n",
    "            cleaned_obj['image_count'] = image_count\n",
    "\n",
    "            # Add the video count as a new key\n",
    "            cleaned_obj['video_count'] = video_count\n",
    "\n",
    "            # Add the detail count as a new key\n",
    "            cleaned_obj['detail_count'] = detail_count\n",
    "\n",
    "            outfile.write(json.dumps(cleaned_obj) + '\\n')\n",
    "\n",
    "        except json.JSONDecodeError as e:\n",
    "            print(f\"Skipping line due to JSONDecodeError: {e} in line: {line.strip()}\")\n",
    "            # Attempt to fix the line (example: replacing single backslashes with double backslashes)\n",
    "            corrected_line = line.strip().replace('\\\\', '\\\\\\\\')\n",
    "            try:\n",
    "                obj = json.loads(corrected_line)\n",
    "                image_count = 0\n",
    "                video_count = 0\n",
    "                detail_count = 0\n",
    "                if 'images' in obj and isinstance(obj['images'], list):\n",
    "                    image_count = len(obj['images'])\n",
    "                if 'videos' in obj and isinstance(obj['videos'], list):\n",
    "                    video_count = len(obj['videos'])\n",
    "                if 'details' in obj and isinstance(obj['details'], list):\n",
    "                    detail_count = len(obj['details'])\n",
    "                cleaned_obj = {k: v for k, v in obj.items() if k not in keys_to_remove}\n",
    "                cleaned_obj['image_count'] = image_count\n",
    "                cleaned_obj['video_count'] = video_count\n",
    "                cleaned_obj['detail_count'] = detail_count\n",
    "                outfile.write(json.dumps(cleaned_obj) + '\\n')\n",
    "                print(f\"Successfully processed corrected line.\")\n",
    "            except json.JSONDecodeError as e_corrected:\n",
    "                print(f\"Failed to process corrected line: {e_corrected} in line: {corrected_line}\")\n",
    "                # If correction fails, you might skip the line or log it for manual inspection"
   ]
  },
  {
   "cell_type": "code",
   "execution_count": null,
   "metadata": {},
   "outputs": [],
   "source": [
    "bapc_items_df = pd.read_json(beauty_and_personal_care_items, lines=True)\n",
    "bapc_items_df.head(5)"
   ]
  },
  {
   "cell_type": "code",
   "execution_count": null,
   "metadata": {},
   "outputs": [],
   "source": [
    "bapc_items_df.info()"
   ]
  },
  {
   "cell_type": "code",
   "execution_count": 3,
   "metadata": {},
   "outputs": [
    {
     "ename": "KeyboardInterrupt",
     "evalue": "",
     "output_type": "error",
     "traceback": [
      "\u001b[31m---------------------------------------------------------------------------\u001b[39m",
      "\u001b[31mKeyboardInterrupt\u001b[39m                         Traceback (most recent call last)",
      "\u001b[36mCell\u001b[39m\u001b[36m \u001b[39m\u001b[32mIn[3]\u001b[39m\u001b[32m, line 1\u001b[39m\n\u001b[32m----> \u001b[39m\u001b[32m1\u001b[39m bapc_items_cleaned_df = \u001b[43mpd\u001b[49m\u001b[43m.\u001b[49m\u001b[43mread_json\u001b[49m\u001b[43m(\u001b[49m\u001b[33;43m'\u001b[39;49m\u001b[33;43m/home/work/Final Project/bapc_items_cleaned.jsonl\u001b[39;49m\u001b[33;43m'\u001b[39;49m\u001b[43m,\u001b[49m\u001b[43m \u001b[49m\u001b[43mlines\u001b[49m\u001b[43m=\u001b[49m\u001b[38;5;28;43;01mTrue\u001b[39;49;00m\u001b[43m)\u001b[49m\n",
      "\u001b[36mFile \u001b[39m\u001b[32m/usr/local/lib/python3.11/dist-packages/pandas/io/json/_json.py:791\u001b[39m, in \u001b[36mread_json\u001b[39m\u001b[34m(path_or_buf, orient, typ, dtype, convert_axes, convert_dates, keep_default_dates, precise_float, date_unit, encoding, encoding_errors, lines, chunksize, compression, nrows, storage_options, dtype_backend, engine)\u001b[39m\n\u001b[32m    788\u001b[39m \u001b[38;5;28;01mif\u001b[39;00m convert_axes \u001b[38;5;129;01mis\u001b[39;00m \u001b[38;5;28;01mNone\u001b[39;00m \u001b[38;5;129;01mand\u001b[39;00m orient != \u001b[33m\"\u001b[39m\u001b[33mtable\u001b[39m\u001b[33m\"\u001b[39m:\n\u001b[32m    789\u001b[39m     convert_axes = \u001b[38;5;28;01mTrue\u001b[39;00m\n\u001b[32m--> \u001b[39m\u001b[32m791\u001b[39m json_reader = \u001b[43mJsonReader\u001b[49m\u001b[43m(\u001b[49m\n\u001b[32m    792\u001b[39m \u001b[43m    \u001b[49m\u001b[43mpath_or_buf\u001b[49m\u001b[43m,\u001b[49m\n\u001b[32m    793\u001b[39m \u001b[43m    \u001b[49m\u001b[43morient\u001b[49m\u001b[43m=\u001b[49m\u001b[43morient\u001b[49m\u001b[43m,\u001b[49m\n\u001b[32m    794\u001b[39m \u001b[43m    \u001b[49m\u001b[43mtyp\u001b[49m\u001b[43m=\u001b[49m\u001b[43mtyp\u001b[49m\u001b[43m,\u001b[49m\n\u001b[32m    795\u001b[39m \u001b[43m    \u001b[49m\u001b[43mdtype\u001b[49m\u001b[43m=\u001b[49m\u001b[43mdtype\u001b[49m\u001b[43m,\u001b[49m\n\u001b[32m    796\u001b[39m \u001b[43m    \u001b[49m\u001b[43mconvert_axes\u001b[49m\u001b[43m=\u001b[49m\u001b[43mconvert_axes\u001b[49m\u001b[43m,\u001b[49m\n\u001b[32m    797\u001b[39m \u001b[43m    \u001b[49m\u001b[43mconvert_dates\u001b[49m\u001b[43m=\u001b[49m\u001b[43mconvert_dates\u001b[49m\u001b[43m,\u001b[49m\n\u001b[32m    798\u001b[39m \u001b[43m    \u001b[49m\u001b[43mkeep_default_dates\u001b[49m\u001b[43m=\u001b[49m\u001b[43mkeep_default_dates\u001b[49m\u001b[43m,\u001b[49m\n\u001b[32m    799\u001b[39m \u001b[43m    \u001b[49m\u001b[43mprecise_float\u001b[49m\u001b[43m=\u001b[49m\u001b[43mprecise_float\u001b[49m\u001b[43m,\u001b[49m\n\u001b[32m    800\u001b[39m \u001b[43m    \u001b[49m\u001b[43mdate_unit\u001b[49m\u001b[43m=\u001b[49m\u001b[43mdate_unit\u001b[49m\u001b[43m,\u001b[49m\n\u001b[32m    801\u001b[39m \u001b[43m    \u001b[49m\u001b[43mencoding\u001b[49m\u001b[43m=\u001b[49m\u001b[43mencoding\u001b[49m\u001b[43m,\u001b[49m\n\u001b[32m    802\u001b[39m \u001b[43m    \u001b[49m\u001b[43mlines\u001b[49m\u001b[43m=\u001b[49m\u001b[43mlines\u001b[49m\u001b[43m,\u001b[49m\n\u001b[32m    803\u001b[39m \u001b[43m    \u001b[49m\u001b[43mchunksize\u001b[49m\u001b[43m=\u001b[49m\u001b[43mchunksize\u001b[49m\u001b[43m,\u001b[49m\n\u001b[32m    804\u001b[39m \u001b[43m    \u001b[49m\u001b[43mcompression\u001b[49m\u001b[43m=\u001b[49m\u001b[43mcompression\u001b[49m\u001b[43m,\u001b[49m\n\u001b[32m    805\u001b[39m \u001b[43m    \u001b[49m\u001b[43mnrows\u001b[49m\u001b[43m=\u001b[49m\u001b[43mnrows\u001b[49m\u001b[43m,\u001b[49m\n\u001b[32m    806\u001b[39m \u001b[43m    \u001b[49m\u001b[43mstorage_options\u001b[49m\u001b[43m=\u001b[49m\u001b[43mstorage_options\u001b[49m\u001b[43m,\u001b[49m\n\u001b[32m    807\u001b[39m \u001b[43m    \u001b[49m\u001b[43mencoding_errors\u001b[49m\u001b[43m=\u001b[49m\u001b[43mencoding_errors\u001b[49m\u001b[43m,\u001b[49m\n\u001b[32m    808\u001b[39m \u001b[43m    \u001b[49m\u001b[43mdtype_backend\u001b[49m\u001b[43m=\u001b[49m\u001b[43mdtype_backend\u001b[49m\u001b[43m,\u001b[49m\n\u001b[32m    809\u001b[39m \u001b[43m    \u001b[49m\u001b[43mengine\u001b[49m\u001b[43m=\u001b[49m\u001b[43mengine\u001b[49m\u001b[43m,\u001b[49m\n\u001b[32m    810\u001b[39m \u001b[43m\u001b[49m\u001b[43m)\u001b[49m\n\u001b[32m    812\u001b[39m \u001b[38;5;28;01mif\u001b[39;00m chunksize:\n\u001b[32m    813\u001b[39m     \u001b[38;5;28;01mreturn\u001b[39;00m json_reader\n",
      "\u001b[36mFile \u001b[39m\u001b[32m/usr/local/lib/python3.11/dist-packages/pandas/io/json/_json.py:905\u001b[39m, in \u001b[36mJsonReader.__init__\u001b[39m\u001b[34m(self, filepath_or_buffer, orient, typ, dtype, convert_axes, convert_dates, keep_default_dates, precise_float, date_unit, encoding, lines, chunksize, compression, nrows, storage_options, encoding_errors, dtype_backend, engine)\u001b[39m\n\u001b[32m    903\u001b[39m \u001b[38;5;28;01melif\u001b[39;00m \u001b[38;5;28mself\u001b[39m.engine == \u001b[33m\"\u001b[39m\u001b[33mujson\u001b[39m\u001b[33m\"\u001b[39m:\n\u001b[32m    904\u001b[39m     data = \u001b[38;5;28mself\u001b[39m._get_data_from_filepath(filepath_or_buffer)\n\u001b[32m--> \u001b[39m\u001b[32m905\u001b[39m     \u001b[38;5;28mself\u001b[39m.data = \u001b[38;5;28;43mself\u001b[39;49m\u001b[43m.\u001b[49m\u001b[43m_preprocess_data\u001b[49m\u001b[43m(\u001b[49m\u001b[43mdata\u001b[49m\u001b[43m)\u001b[49m\n",
      "\u001b[36mFile \u001b[39m\u001b[32m/usr/local/lib/python3.11/dist-packages/pandas/io/json/_json.py:917\u001b[39m, in \u001b[36mJsonReader._preprocess_data\u001b[39m\u001b[34m(self, data)\u001b[39m\n\u001b[32m    915\u001b[39m \u001b[38;5;28;01mif\u001b[39;00m \u001b[38;5;28mhasattr\u001b[39m(data, \u001b[33m\"\u001b[39m\u001b[33mread\u001b[39m\u001b[33m\"\u001b[39m) \u001b[38;5;129;01mand\u001b[39;00m \u001b[38;5;129;01mnot\u001b[39;00m (\u001b[38;5;28mself\u001b[39m.chunksize \u001b[38;5;129;01mor\u001b[39;00m \u001b[38;5;28mself\u001b[39m.nrows):\n\u001b[32m    916\u001b[39m     \u001b[38;5;28;01mwith\u001b[39;00m \u001b[38;5;28mself\u001b[39m:\n\u001b[32m--> \u001b[39m\u001b[32m917\u001b[39m         data = \u001b[43mdata\u001b[49m\u001b[43m.\u001b[49m\u001b[43mread\u001b[49m\u001b[43m(\u001b[49m\u001b[43m)\u001b[49m\n\u001b[32m    918\u001b[39m \u001b[38;5;28;01mif\u001b[39;00m \u001b[38;5;129;01mnot\u001b[39;00m \u001b[38;5;28mhasattr\u001b[39m(data, \u001b[33m\"\u001b[39m\u001b[33mread\u001b[39m\u001b[33m\"\u001b[39m) \u001b[38;5;129;01mand\u001b[39;00m (\u001b[38;5;28mself\u001b[39m.chunksize \u001b[38;5;129;01mor\u001b[39;00m \u001b[38;5;28mself\u001b[39m.nrows):\n\u001b[32m    919\u001b[39m     data = StringIO(data)\n",
      "\u001b[36mFile \u001b[39m\u001b[32m<frozen codecs>:319\u001b[39m, in \u001b[36mdecode\u001b[39m\u001b[34m(self, input, final)\u001b[39m\n",
      "\u001b[31mKeyboardInterrupt\u001b[39m: "
     ]
    }
   ],
   "source": [
    "bapc_items_cleaned_df = pd.read_json('/home/work/Final Project/bapc_items_cleaned.jsonl', lines=True)"
   ]
  },
  {
   "cell_type": "code",
   "execution_count": null,
   "metadata": {},
   "outputs": [],
   "source": [
    "bapc_items_cleaned_df.info()"
   ]
  },
  {
   "cell_type": "markdown",
   "metadata": {
    "id": "304bSoXtTkOG"
   },
   "source": [
    "# Beauty and Personal Care Reviews\n",
    "meta_Beauty_and_Personal_Care.jsonl"
   ]
  },
  {
   "cell_type": "code",
   "execution_count": 4,
   "metadata": {
    "id": "8P7WhLafTmZv"
   },
   "outputs": [],
   "source": [
    "beauty_and_personal_care_reviews = '/home/work/Final Project/Beauty_and_Personal_Care.jsonl/Beauty_and_Personal_Care.jsonl'"
   ]
  },
  {
   "cell_type": "code",
   "execution_count": 5,
   "metadata": {
    "colab": {
     "base_uri": "https://localhost:8080/",
     "height": 222
    },
    "id": "DCXodym5WA8i",
    "outputId": "a590a31e-62e2-4e9e-aca3-bb52a9869a18"
   },
   "outputs": [],
   "source": [
    "keys_to_remove = {\"images\"}\n",
    "\n",
    "with open(beauty_and_personal_care_reviews, 'r') as infile, open('bapc_reviews_cleaned.jsonl', 'w') as outfile:\n",
    "  for line in infile:\n",
    "        try:\n",
    "            obj = json.loads(line)\n",
    "\n",
    "            # Initialize image count\n",
    "            image_count = 0\n",
    "\n",
    "            # Check if 'images' key exists and is a list\n",
    "            if 'images' in obj and isinstance(obj['images'], list):\n",
    "                image_count = len(obj['images'])\n",
    "\n",
    "            cleaned_obj = {k: v for k, v in obj.items() if k not in keys_to_remove}\n",
    "\n",
    "            # Add the image count as a new key\n",
    "            cleaned_obj['image_count'] = image_count\n",
    "\n",
    "            outfile.write(json.dumps(cleaned_obj) + '\\n')\n",
    "\n",
    "        except json.JSONDecodeError as e:\n",
    "            print(f\"Skipping line due to JSONDecodeError: {e} in line: {line.strip()}\")\n",
    "            # Attempt to fix the line (example: replacing single backslashes with double backslashes)\n",
    "            corrected_line = line.strip().replace('\\\\', '\\\\\\\\')\n",
    "            try:\n",
    "                obj = json.loads(corrected_line)\n",
    "                image_count = 0\n",
    "                if 'images' in obj and isinstance(obj['images'], list):\n",
    "                    image_count = len(obj['images'])\n",
    "                cleaned_obj = {k: v for k, v in obj.items() if k not in keys_to_remove}\n",
    "                cleaned_obj['image_count'] = image_count\n",
    "                outfile.write(json.dumps(cleaned_obj) + '\\n')\n",
    "                print(f\"Successfully processed corrected line.\")\n",
    "            except json.JSONDecodeError as e_corrected:\n",
    "                print(f\"Failed to process corrected line: {e_corrected} in line: {corrected_line}\")\n",
    "                # If correction fails, you might skip the line or log it for manual inspection"
   ]
  },
  {
   "cell_type": "code",
   "execution_count": null,
   "metadata": {},
   "outputs": [],
   "source": [
    "bapc_reviews_cleaned_df = pd.read_json('/home/work/Final Project/meta_bapc_reviews_cleaned.jsonl', lines=True)"
   ]
  },
  {
   "cell_type": "code",
   "execution_count": null,
   "metadata": {},
   "outputs": [],
   "source": [
    "bapc_reviews_cleaned_df.head(5)"
   ]
  },
  {
   "cell_type": "code",
   "execution_count": null,
   "metadata": {},
   "outputs": [],
   "source": []
  }
 ],
 "metadata": {
  "colab": {
   "collapsed_sections": [
    "A8ldu2ScFiIw"
   ],
   "provenance": []
  },
  "kernelspec": {
   "display_name": "Python 3 (ipykernel)",
   "language": "python",
   "name": "python3"
  },
  "language_info": {
   "codemirror_mode": {
    "name": "ipython",
    "version": 3
   },
   "file_extension": ".py",
   "mimetype": "text/x-python",
   "name": "python",
   "nbconvert_exporter": "python",
   "pygments_lexer": "ipython3",
   "version": "3.11.0rc1"
  }
 },
 "nbformat": 4,
 "nbformat_minor": 4
}
